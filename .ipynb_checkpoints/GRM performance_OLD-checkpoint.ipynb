{
 "cells": [
  {
   "cell_type": "code",
   "execution_count": 1,
   "metadata": {
    "collapsed": false,
    "jupyter": {
     "outputs_hidden": false
    },
    "pycharm": {
     "name": "#%%\n"
    }
   },
   "outputs": [],
   "source": [
    "import pandas_gbq\n",
    "import pandas as pd\n",
    "from sklearn.metrics import auc, confusion_matrix, precision_recall_curve, roc_auc_score"
   ]
  },
  {
   "cell_type": "code",
   "execution_count": 2,
   "metadata": {
    "collapsed": false,
    "jupyter": {
     "outputs_hidden": false
    },
    "pycharm": {
     "name": "#%%\n"
    }
   },
   "outputs": [],
   "source": [
    "q='''\n",
    "# 1-select users and respective segments for \"2023-09-01\"\n",
    "# 2-mark which users placed an order on \"2023-09-01\"\n",
    "WITH\n",
    "  cust_orders AS (\n",
    "  SELECT analytical_customer_id, lifecycle_segment, global_entity_id, reordered\n",
    "  FROM `fulfillment-dwh-production.cl_mkt._reorder_lifecycle_segmentation_history`\n",
    "  LEFT JOIN (SELECT DISTINCT global_entity_id, analytical_customer_id, 1 AS reordered\n",
    "             FROM  `fulfillment-dwh-production.curated_data_shared_coredata_business.orders`\n",
    "                WHERE partition_date_local = \"2023-09-01\" AND global_entity_id=\"FO_NO\" AND is_successful AND analytical_customer_id IS NOT NULL )\n",
    "  USING(analytical_customer_id, global_entity_id)\n",
    "  WHERE computation_date = \"2023-09-01\" and global_entity_id=\"FO_NO\" ),\n",
    "\n",
    "# select reorder score predicted for users on \"2023-09-01\"\n",
    "  pred_scores AS (\n",
    "  SELECT\n",
    "    \"general_reorder\" AS model_type, global_entity_id, analytical_customer_id, 1 - concated_survival_scores[ORDINAL(1)] AS reorder_score, scoring_date\n",
    "  FROM `mkt-reorder-prod.mkt_reorder_prod.predictions_rsf_mature_targeted_ALL`\n",
    "    WHERE scoring_date = \"2023-09-01\" AND global_entity_id=\"FO_NO\"),\n",
    "\n",
    "# merge previous two tables\n",
    "# (when left joining pred_scores on cust_orders we lose the customers without segment. Otherwise the results are the same\n",
    "  merged_table AS (\n",
    "  SELECT p.global_entity_id, p.analytical_customer_id, COALESCE(c.reordered, 0) AS reordered, p.reorder_score*100 AS reorder_score, p.model_type, c.lifecycle_segment\n",
    "  FROM pred_scores AS p\n",
    "  LEFT JOIN ( SELECT * FROM cust_orders ) AS c\n",
    "  ON p.global_entity_id = c.global_entity_id AND p.analytical_customer_id = c.analytical_customer_id),\n",
    "\n",
    "# calculate min/max reorder score to scale reorder probability\n",
    "  min_max_reorder AS (\n",
    "  SELECT global_entity_id, model_type, MAX(reorder_score) AS max_reorder_score, MIN(reorder_score) AS min_reorder_score\n",
    "  FROM merged_table GROUP BY  model_type, global_entity_id)\n",
    "\n",
    "# final results with scaled reorder probability, lifecycle segment and reorder score\n",
    "SELECT\n",
    "  r.global_entity_id,\n",
    "  r.analytical_customer_id,\n",
    "  r.reordered,\n",
    "  r.reorder_score,\n",
    "  r.model_type,\n",
    "  (r.reorder_score - m.min_reorder_score)/(m.max_reorder_score - m.min_reorder_score) AS reorder_score_scaled,\n",
    "  r.lifecycle_segment\n",
    "FROM merged_table AS r\n",
    "JOIN min_max_reorder AS m ON m.model_type = r.model_type AND m.global_entity_id = r.global_entity_id\n",
    "ORDER BY r.global_entity_id DESC, r.analytical_customer_id DESC\n",
    "'''"
   ]
  },
  {
   "cell_type": "code",
   "execution_count": 3,
   "metadata": {
    "collapsed": false,
    "jupyter": {
     "outputs_hidden": false
    },
    "pycharm": {
     "name": "#%%\n"
    }
   },
   "outputs": [
    {
     "name": "stderr",
     "output_type": "stream",
     "text": [
      "/Users/a.capuano/opt/miniconda3/envs/ml/lib/python3.10/site-packages/google/auth/_default.py:76: UserWarning: Your application has authenticated using end user credentials from Google Cloud SDK without a quota project. You might receive a \"quota exceeded\" or \"API not enabled\" error. See the following page for troubleshooting: https://cloud.google.com/docs/authentication/adc-troubleshooting/user-creds. \n",
      "  warnings.warn(_CLOUD_SDK_CREDENTIALS_WARNING)\n"
     ]
    },
    {
     "name": "stdout",
     "output_type": "stream",
     "text": [
      "Downloading: 100%|\u001b[32m██████████\u001b[0m|\n"
     ]
    }
   ],
   "source": [
    "df = pandas_gbq.read_gbq(q)"
   ]
  },
  {
   "cell_type": "code",
   "execution_count": 4,
   "metadata": {
    "collapsed": false,
    "jupyter": {
     "outputs_hidden": false
    },
    "pycharm": {
     "name": "#%%\n"
    }
   },
   "outputs": [
    {
     "data": {
      "text/html": [
       "<div>\n",
       "<style scoped>\n",
       "    .dataframe tbody tr th:only-of-type {\n",
       "        vertical-align: middle;\n",
       "    }\n",
       "\n",
       "    .dataframe tbody tr th {\n",
       "        vertical-align: top;\n",
       "    }\n",
       "\n",
       "    .dataframe thead th {\n",
       "        text-align: right;\n",
       "    }\n",
       "</style>\n",
       "<table border=\"1\" class=\"dataframe\">\n",
       "  <thead>\n",
       "    <tr style=\"text-align: right;\">\n",
       "      <th></th>\n",
       "      <th>global_entity_id</th>\n",
       "      <th>analytical_customer_id</th>\n",
       "      <th>reordered</th>\n",
       "      <th>reorder_score</th>\n",
       "      <th>model_type</th>\n",
       "      <th>reorder_score_scaled</th>\n",
       "      <th>lifecycle_segment</th>\n",
       "    </tr>\n",
       "  </thead>\n",
       "  <tbody>\n",
       "    <tr>\n",
       "      <th>0</th>\n",
       "      <td>FO_NO</td>\n",
       "      <td>zzzkWUb3VfWumbq3Tkuo8w</td>\n",
       "      <td>0</td>\n",
       "      <td>1.0</td>\n",
       "      <td>general_reorder</td>\n",
       "      <td>0.000000</td>\n",
       "      <td>stale_early_customer</td>\n",
       "    </tr>\n",
       "    <tr>\n",
       "      <th>1</th>\n",
       "      <td>FO_NO</td>\n",
       "      <td>zzz7BeAcWDePeohCblcE3w</td>\n",
       "      <td>0</td>\n",
       "      <td>1.0</td>\n",
       "      <td>general_reorder</td>\n",
       "      <td>0.000000</td>\n",
       "      <td>frequent_mature_customer</td>\n",
       "    </tr>\n",
       "    <tr>\n",
       "      <th>2</th>\n",
       "      <td>FO_NO</td>\n",
       "      <td>zzybLe9vWfa2mP6dbhdH8w</td>\n",
       "      <td>0</td>\n",
       "      <td>2.0</td>\n",
       "      <td>general_reorder</td>\n",
       "      <td>0.052632</td>\n",
       "      <td>frequent_mature_customer</td>\n",
       "    </tr>\n",
       "    <tr>\n",
       "      <th>3</th>\n",
       "      <td>FO_NO</td>\n",
       "      <td>zzyZj0KTUzCzV5KSLP82Jg</td>\n",
       "      <td>0</td>\n",
       "      <td>2.0</td>\n",
       "      <td>general_reorder</td>\n",
       "      <td>0.052632</td>\n",
       "      <td>infrequent_mature_customer</td>\n",
       "    </tr>\n",
       "    <tr>\n",
       "      <th>4</th>\n",
       "      <td>FO_NO</td>\n",
       "      <td>zzyC-PznVQWqZyz_mXR97g</td>\n",
       "      <td>0</td>\n",
       "      <td>3.0</td>\n",
       "      <td>general_reorder</td>\n",
       "      <td>0.105263</td>\n",
       "      <td>dormant_mature_customer</td>\n",
       "    </tr>\n",
       "  </tbody>\n",
       "</table>\n",
       "</div>"
      ],
      "text/plain": [
       "  global_entity_id  analytical_customer_id  reordered  reorder_score  \\\n",
       "0            FO_NO  zzzkWUb3VfWumbq3Tkuo8w          0            1.0   \n",
       "1            FO_NO  zzz7BeAcWDePeohCblcE3w          0            1.0   \n",
       "2            FO_NO  zzybLe9vWfa2mP6dbhdH8w          0            2.0   \n",
       "3            FO_NO  zzyZj0KTUzCzV5KSLP82Jg          0            2.0   \n",
       "4            FO_NO  zzyC-PznVQWqZyz_mXR97g          0            3.0   \n",
       "\n",
       "        model_type  reorder_score_scaled           lifecycle_segment  \n",
       "0  general_reorder              0.000000        stale_early_customer  \n",
       "1  general_reorder              0.000000    frequent_mature_customer  \n",
       "2  general_reorder              0.052632    frequent_mature_customer  \n",
       "3  general_reorder              0.052632  infrequent_mature_customer  \n",
       "4  general_reorder              0.105263     dormant_mature_customer  "
      ]
     },
     "execution_count": 4,
     "metadata": {},
     "output_type": "execute_result"
    }
   ],
   "source": [
    "df.head()"
   ]
  },
  {
   "cell_type": "code",
   "execution_count": 5,
   "metadata": {
    "collapsed": false,
    "jupyter": {
     "outputs_hidden": false
    },
    "pycharm": {
     "name": "#%%\n"
    }
   },
   "outputs": [],
   "source": [
    "#df['orders_count'].fillna(0, inplace=True)\n",
    "df['lifecycle_segment'].fillna(\"no_segment\", inplace=True)"
   ]
  },
  {
   "cell_type": "markdown",
   "metadata": {
    "collapsed": false,
    "jupyter": {
     "outputs_hidden": false
    },
    "pycharm": {
     "name": "#%% md\n"
    }
   },
   "source": [
    "The following functions to calculate the model performance can be fount at https://github.com/deliveryhero/datahub-airflow/blob/main/dags/mkt/mkt_reorder_performance_pipeline.py"
   ]
  },
  {
   "cell_type": "code",
   "execution_count": 6,
   "metadata": {
    "collapsed": false,
    "jupyter": {
     "outputs_hidden": false
    },
    "pycharm": {
     "name": "#%%\n"
    }
   },
   "outputs": [],
   "source": [
    "def model_evaluation_metrices(y_true, y_pred_binary, ypred_score):\n",
    "    cm = confusion_matrix(y_true, y_pred_binary)\n",
    "    tn, fp, fn, tp = cm.ravel()\n",
    "    # auc = roc_auc_score(y_true,y_pred)\n",
    "    recall = tp / (tp + fn)\n",
    "    specificity = tn / (tn + fp)\n",
    "    precision = tp / (tp + fp)\n",
    "    accuracy = (tp + tn) / (tn + fp + fn + tp)\n",
    "    f1_score = (2 * tp) / (2 * tp + fp + fn)\n",
    "    # calculate precision-recall curve\n",
    "    precision_for_auc, recall_for_auc, thresholds_vals = precision_recall_curve(\n",
    "        y_true, y_pred_binary\n",
    "    )\n",
    "    # calculate precision-recall AUC\n",
    "    precision_recall_auc = auc(recall_for_auc, precision_for_auc)\n",
    "    roc_auc = roc_auc_score(y_true=y_true, y_score=ypred_score)\n",
    "\n",
    "    return (\n",
    "        round(accuracy, 2),\n",
    "        round(recall, 2),\n",
    "        round(specificity, 2),\n",
    "        round(f1_score, 2),\n",
    "        round(precision, 2),\n",
    "        round(roc_auc, 2),\n",
    "        round(precision_recall_auc, 2),\n",
    "    )"
   ]
  },
  {
   "cell_type": "code",
   "execution_count": 7,
   "metadata": {
    "collapsed": false,
    "jupyter": {
     "outputs_hidden": false
    },
    "pycharm": {
     "name": "#%%\n"
    }
   },
   "outputs": [],
   "source": [
    "def make_results(df, order_col):\n",
    "    df_store_final = pd.DataFrame(\n",
    "            columns=[\n",
    "                \"threshold\",\n",
    "                \"lifecycle_segment\",\n",
    "                \"accuracy\",\n",
    "                \"recall\",\n",
    "                \"specificity\",\n",
    "                \"f1_score\",\n",
    "                \"precision\",\n",
    "                \"roc_auc\",\n",
    "                \"precision_recall_auc\",\n",
    "            ]\n",
    "        )\n",
    "\n",
    "    for segment in df[order_col].unique():\n",
    "        df_filtered = df[df[order_col]==segment]\n",
    "        for mythres in [0.3, 0.5, 0.7]:\n",
    "            binary_pred = df_filtered[\"reorder_score_scaled\"].apply(\n",
    "                lambda x: 1 if x > mythres else 0\n",
    "            )\n",
    "            if (df_filtered[\"reordered\"].nunique() < 2) | (\n",
    "                binary_pred.nunique() < 2 #understand condition better\n",
    "            ):\n",
    "                continue\n",
    "\n",
    "            (\n",
    "                accuracy,\n",
    "                recall,\n",
    "                specificity,\n",
    "                f1_score,\n",
    "                precision,\n",
    "                roc_auc,\n",
    "                precision_recall_auc,\n",
    "            ) = model_evaluation_metrices(\n",
    "                y_true=df_filtered[\"reordered\"].to_list(),\n",
    "                y_pred_binary=binary_pred,\n",
    "                ypred_score=df_filtered[\"reorder_score_scaled\"],\n",
    "        )\n",
    "\n",
    "            df_store = pd.DataFrame(\n",
    "                                index=[0],\n",
    "                                columns=[\n",
    "                                    \"threshold\",\n",
    "                                    \"lifecycle_segment\",\n",
    "                                    \"accuracy\",\n",
    "                                    \"recall\",\n",
    "                                    \"specificity\",\n",
    "                                    \"f1_score\",\n",
    "                                    \"precision\",\n",
    "                                    \"roc_auc\",\n",
    "                                    \"precision_recall_auc\",\n",
    "                                ],\n",
    "                            )\n",
    "            df_store[\"threshold\"] = mythres\n",
    "            df_store[\"lifecycle_segment\"] = segment\n",
    "            df_store[\"accuracy\"] = accuracy\n",
    "            df_store[\"recall\"] = recall\n",
    "            df_store[\"specificity\"] = specificity\n",
    "            df_store[\"f1_score\"] = f1_score\n",
    "            df_store[\"precision\"] = precision\n",
    "            df_store[\"roc_auc\"] = roc_auc\n",
    "            df_store[\"precision_recall_auc\"] = precision_recall_auc\n",
    "            df_store_final = pd.concat(\n",
    "                [df_store_final, df_store], axis=0, ignore_index=True\n",
    "            )\n",
    "    return df_store_final"
   ]
  },
  {
   "cell_type": "code",
   "execution_count": 8,
   "metadata": {
    "collapsed": false,
    "jupyter": {
     "outputs_hidden": false
    },
    "pycharm": {
     "name": "#%%\n"
    }
   },
   "outputs": [
    {
     "name": "stdout",
     "output_type": "stream",
     "text": [
      "   threshold           lifecycle_segment  accuracy  recall  specificity  \\\n",
      "0        0.3        stale_early_customer      0.99    0.01         1.00   \n",
      "1        0.3    frequent_mature_customer      0.74    0.62         0.75   \n",
      "2        0.5    frequent_mature_customer      0.90    0.31         0.94   \n",
      "3        0.7    frequent_mature_customer      0.94    0.10         0.99   \n",
      "4        0.3  infrequent_mature_customer      0.89    0.29         0.91   \n",
      "5        0.5  infrequent_mature_customer      0.97    0.01         1.00   \n",
      "6        0.3      dormant_early_customer      0.99    0.00         1.00   \n",
      "7        0.3       recent_early_customer      0.98    0.06         1.00   \n",
      "\n",
      "   f1_score  precision  roc_auc  precision_recall_auc  \n",
      "0      0.01       0.12     0.69                  0.07  \n",
      "1      0.20       0.12     0.75                  0.38  \n",
      "2      0.25       0.20     0.75                  0.27  \n",
      "3      0.15       0.34     0.75                  0.24  \n",
      "4      0.15       0.10     0.69                  0.21  \n",
      "5      0.03       0.17     0.69                  0.11  \n",
      "6      0.00       0.15     0.68                  0.08  \n",
      "7      0.09       0.16     0.73                  0.12  \n"
     ]
    }
   ],
   "source": [
    "results = make_results(df, order_col='lifecycle_segment')\n",
    "print(results)"
   ]
  },
  {
   "cell_type": "code",
   "execution_count": 9,
   "metadata": {
    "collapsed": false,
    "jupyter": {
     "outputs_hidden": false
    },
    "pycharm": {
     "name": "#%%\n"
    }
   },
   "outputs": [
    {
     "data": {
      "text/plain": [
       "array(['stale_early_customer', 'frequent_mature_customer',\n",
       "       'infrequent_mature_customer', 'dormant_mature_customer',\n",
       "       'dormant_early_customer', 'recent_early_customer', 'no_segment'],\n",
       "      dtype=object)"
      ]
     },
     "execution_count": 9,
     "metadata": {},
     "output_type": "execute_result"
    }
   ],
   "source": [
    "df['lifecycle_segment'].unique()"
   ]
  },
  {
   "cell_type": "markdown",
   "metadata": {
    "collapsed": false,
    "jupyter": {
     "outputs_hidden": false
    }
   },
   "source": [
    "Try left joining predictions on orders:"
   ]
  },
  {
   "cell_type": "code",
   "execution_count": 10,
   "metadata": {
    "collapsed": false,
    "jupyter": {
     "outputs_hidden": false
    },
    "pycharm": {
     "name": "#%%\n"
    }
   },
   "outputs": [],
   "source": [
    "q1 = '''\n",
    "WITH\n",
    "  cust_orders AS (\n",
    "  SELECT\n",
    "    analytical_customer_id,\n",
    "    lifecycle_segment,\n",
    "    global_entity_id,\n",
    "    reordered\n",
    "  FROM\n",
    "    `fulfillment-dwh-production.cl_mkt._reorder_lifecycle_segmentation_history`\n",
    "  LEFT JOIN (\n",
    "    SELECT\n",
    "      DISTINCT global_entity_id,\n",
    "      analytical_customer_id,\n",
    "      1 AS reordered,\n",
    "    FROM\n",
    "      `fulfillment-dwh-production.curated_data_shared_coredata_business.orders`\n",
    "    WHERE\n",
    "      partition_date_local = \"2023-09-01\"\n",
    "      AND global_entity_id=\"FO_NO\"\n",
    "      AND is_successful\n",
    "      AND analytical_customer_id IS NOT NULL )\n",
    "  USING\n",
    "    (analytical_customer_id,\n",
    "      global_entity_id)\n",
    "  WHERE computation_date = \"2023-09-01\" and global_entity_id=\"FO_NO\" ),\n",
    "  pred_scores AS (\n",
    "  SELECT\n",
    "    \"general_reorder\" AS model_type,\n",
    "    global_entity_id,\n",
    "    analytical_customer_id,\n",
    "    1 - concated_survival_scores[ORDINAL(30)] AS reorder_score,\n",
    "    scoring_date\n",
    "  FROM\n",
    "    `mkt-reorder-prod.mkt_reorder_prod.predictions_rsf_mature_targeted_ALL`\n",
    "  WHERE\n",
    "    scoring_date = \"2023-09-01\"\n",
    "    AND global_entity_id=\"FO_NO\" ),\n",
    "  merged_table AS (\n",
    "\n",
    "\n",
    "  SELECT\n",
    "    p.global_entity_id,\n",
    "    p.analytical_customer_id,\n",
    "    COALESCE(c.reordered, 0) AS reordered,\n",
    "    p.reorder_score*100 AS reorder_score,\n",
    "    p.model_type,\n",
    "    c.lifecycle_segment\n",
    "  FROM\n",
    "     cust_orders AS c\n",
    "  LEFT JOIN (\n",
    "    SELECT\n",
    "      global_entity_id,\n",
    "    analytical_customer_id,\n",
    "    reorder_score*100 AS reorder_score,\n",
    "    model_type,\n",
    "    FROM\n",
    "      pred_scores ) AS p\n",
    "  ON\n",
    "    p.global_entity_id = c.global_entity_id\n",
    "    AND p.analytical_customer_id = c.analytical_customer_id\n",
    "\n",
    "\n",
    "\n",
    "    ),\n",
    "  binned_table AS (\n",
    "  SELECT\n",
    "    *,\n",
    "    CASE\n",
    "      WHEN reorder_score < 10 THEN \"[0,10)\"\n",
    "      WHEN reorder_score >= 10\n",
    "    AND reorder_score < 20 THEN \"[10,20)\"\n",
    "      WHEN reorder_score >= 20 AND reorder_score < 30 THEN \"[20,30)\"\n",
    "      WHEN reorder_score >= 30\n",
    "    AND reorder_score < 40 THEN \"[30,40)\"\n",
    "      WHEN reorder_score >= 40 AND reorder_score < 50 THEN \"[40,50)\"\n",
    "      WHEN reorder_score >= 50\n",
    "    AND reorder_score < 60 THEN \"[50,60)\"\n",
    "      WHEN reorder_score >= 60 AND reorder_score < 70 THEN \"[60,70)\"\n",
    "      WHEN reorder_score >= 70\n",
    "    AND reorder_score < 80 THEN \"[70,80)\"\n",
    "      WHEN reorder_score >= 80 AND reorder_score < 90 THEN \"[80,90)\"\n",
    "      WHEN reorder_score >= 90 THEN \"[90,100)\"\n",
    "    ELSE\n",
    "    \"invalid_value\"\n",
    "  END\n",
    "    AS reorder_bin,\n",
    "  FROM\n",
    "    merged_table ),\n",
    "  min_max_reorder AS (\n",
    "  SELECT\n",
    "    global_entity_id,\n",
    "    model_type,\n",
    "    -- lifecycle_segment,\n",
    "    MAX(reorder_score) AS max_reorder_score,\n",
    "    MIN(reorder_score) AS min_reorder_score\n",
    "  FROM\n",
    "    binned_table\n",
    "  GROUP BY\n",
    "    model_type,\n",
    "    global_entity_id--, lifecycle_segment\n",
    "    )\n",
    "SELECT\n",
    "  r.global_entity_id,\n",
    "  r.analytical_customer_id,\n",
    "  r.reordered,\n",
    "  r.reorder_score,\n",
    "  r.model_type,\n",
    "  r.reorder_bin,\n",
    "  (r.reorder_score - m.min_reorder_score)/(m.max_reorder_score - m.min_reorder_score) AS reorder_score_scaled,\n",
    "  r.lifecycle_segment\n",
    "FROM\n",
    "  binned_table AS r\n",
    "JOIN\n",
    "  min_max_reorder AS m\n",
    "ON\n",
    "  m.model_type = r.model_type\n",
    "  AND m.global_entity_id = r.global_entity_id\n",
    "  --AND m.lifecycle_segment = r.lifecycle_segment\n",
    "ORDER BY\n",
    "  r.global_entity_id DESC,\n",
    "  r.analytical_customer_id DESC\n",
    "'''"
   ]
  },
  {
   "cell_type": "code",
   "execution_count": 11,
   "metadata": {
    "collapsed": false,
    "jupyter": {
     "outputs_hidden": false
    },
    "pycharm": {
     "name": "#%%\n"
    }
   },
   "outputs": [
    {
     "name": "stdout",
     "output_type": "stream",
     "text": [
      "Downloading: 100%|\u001b[32m██████████\u001b[0m|\n"
     ]
    }
   ],
   "source": [
    "df1 = pandas_gbq.read_gbq(q1)"
   ]
  },
  {
   "cell_type": "code",
   "execution_count": 12,
   "metadata": {
    "collapsed": false,
    "jupyter": {
     "outputs_hidden": false
    },
    "pycharm": {
     "name": "#%%\n"
    }
   },
   "outputs": [],
   "source": [
    "df1['lifecycle_segment'].fillna(\"no_segment\", inplace=True)"
   ]
  },
  {
   "cell_type": "code",
   "execution_count": 13,
   "metadata": {
    "collapsed": false,
    "jupyter": {
     "outputs_hidden": false
    },
    "pycharm": {
     "name": "#%%\n"
    }
   },
   "outputs": [
    {
     "name": "stdout",
     "output_type": "stream",
     "text": [
      "    threshold           lifecycle_segment  accuracy  recall  specificity  \\\n",
      "0         0.3        stale_early_customer      0.90    0.39         0.91   \n",
      "1         0.5        stale_early_customer      0.98    0.08         0.98   \n",
      "2         0.7        stale_early_customer      0.99    0.00         1.00   \n",
      "3         0.3    frequent_mature_customer      0.24    0.95         0.20   \n",
      "4         0.5    frequent_mature_customer      0.51    0.83         0.49   \n",
      "5         0.7    frequent_mature_customer      0.74    0.62         0.75   \n",
      "6         0.3  infrequent_mature_customer      0.34    0.86         0.32   \n",
      "7         0.5  infrequent_mature_customer      0.69    0.59         0.69   \n",
      "8         0.7  infrequent_mature_customer      0.90    0.28         0.92   \n",
      "9         0.3     dormant_mature_customer      0.88    0.17         0.89   \n",
      "10        0.5     dormant_mature_customer      0.99    0.00         1.00   \n",
      "11        0.3      dormant_early_customer      0.89    0.35         0.89   \n",
      "12        0.5      dormant_early_customer      0.98    0.07         0.99   \n",
      "13        0.7      dormant_early_customer      0.99    0.00         1.00   \n",
      "14        0.3       recent_early_customer      0.86    0.46         0.86   \n",
      "15        0.5       recent_early_customer      0.95    0.21         0.96   \n",
      "16        0.7       recent_early_customer      0.98    0.03         1.00   \n",
      "\n",
      "    f1_score  precision  roc_auc  precision_recall_auc  \n",
      "0       0.05       0.03     0.73                  0.21  \n",
      "1       0.04       0.03     0.73                  0.06  \n",
      "2       0.01       0.20     0.73                  0.11  \n",
      "3       0.11       0.06     0.75                  0.51  \n",
      "4       0.15       0.08     0.75                  0.46  \n",
      "5       0.20       0.12     0.75                  0.38  \n",
      "6       0.07       0.04     0.70                  0.45  \n",
      "7       0.11       0.06     0.70                  0.33  \n",
      "8       0.15       0.10     0.70                  0.20  \n",
      "9       0.03       0.01     0.58                  0.10  \n",
      "10      0.00       0.00     0.58                  0.00  \n",
      "11      0.05       0.03     0.72                  0.19  \n",
      "12      0.06       0.05     0.72                  0.06  \n",
      "13      0.00       0.00     0.72                  0.00  \n",
      "14      0.09       0.05     0.75                  0.26  \n",
      "15      0.11       0.08     0.75                  0.15  \n",
      "16      0.06       0.21     0.75                  0.13  \n"
     ]
    }
   ],
   "source": [
    "results1 = make_results(df1, order_col='lifecycle_segment')\n",
    "print(results1)"
   ]
  },
  {
   "cell_type": "markdown",
   "metadata": {
    "collapsed": false,
    "jupyter": {
     "outputs_hidden": false
    }
   },
   "source": [
    "The df are the same per segment but df contains customers w/o segment so I keep that."
   ]
  },
  {
   "cell_type": "code",
   "execution_count": 14,
   "metadata": {
    "collapsed": false,
    "jupyter": {
     "outputs_hidden": false
    },
    "pycharm": {
     "name": "#%%\n"
    }
   },
   "outputs": [
    {
     "data": {
      "text/plain": [
       "(array(['stale_early_customer', 'frequent_mature_customer',\n",
       "        'infrequent_mature_customer', 'dormant_mature_customer',\n",
       "        'dormant_early_customer', 'recent_early_customer'], dtype=object),\n",
       " array(['stale_early_customer', 'frequent_mature_customer',\n",
       "        'infrequent_mature_customer', 'dormant_mature_customer',\n",
       "        'dormant_early_customer', 'recent_early_customer', 'no_segment'],\n",
       "       dtype=object))"
      ]
     },
     "execution_count": 14,
     "metadata": {},
     "output_type": "execute_result"
    }
   ],
   "source": [
    "df1['lifecycle_segment'].unique(), df['lifecycle_segment'].unique()"
   ]
  },
  {
   "cell_type": "markdown",
   "metadata": {
    "collapsed": false,
    "jupyter": {
     "outputs_hidden": false
    }
   },
   "source": [
    "Segments from table:\n",
    "frequent_mature_customer,\n",
    "dormant_early_customer,\n",
    "dormant_mature_customer,\n",
    "recent_early_customer,\n",
    "infrequent_mature_customer,\n",
    "stale_early_customer"
   ]
  }
 ],
 "metadata": {
  "kernelspec": {
   "display_name": "Python 3 (ipykernel)",
   "language": "python",
   "name": "python3"
  },
  "language_info": {
   "codemirror_mode": {
    "name": "ipython",
    "version": 3
   },
   "file_extension": ".py",
   "mimetype": "text/x-python",
   "name": "python",
   "nbconvert_exporter": "python",
   "pygments_lexer": "ipython3",
   "version": "3.10.1"
  }
 },
 "nbformat": 4,
 "nbformat_minor": 4
}

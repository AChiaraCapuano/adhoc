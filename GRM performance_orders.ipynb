{
 "cells": [
  {
   "cell_type": "code",
   "execution_count": 1,
   "metadata": {
    "pycharm": {
     "name": "#%%\n"
    }
   },
   "outputs": [],
   "source": [
    "import pandas_gbq\n",
    "import pandas as pd\n",
    "from sklearn.metrics import auc, confusion_matrix, precision_recall_curve, roc_auc_score"
   ]
  },
  {
   "cell_type": "code",
   "execution_count": 2,
   "metadata": {
    "collapsed": false,
    "jupyter": {
     "outputs_hidden": false
    },
    "pycharm": {
     "name": "#%%\n"
    }
   },
   "outputs": [],
   "source": [
    "q='''\n",
    "WITH\n",
    "  cust_orders AS (\n",
    "  SELECT\n",
    "    global_entity_id,\n",
    "    analytical_customer_id,\n",
    "    placed_at_local,\n",
    "    1 AS reordered,\n",
    "    CASE\n",
    "      WHEN is_discount OR is_voucher THEN 1\n",
    "    ELSE\n",
    "    0\n",
    "  END\n",
    "    AS is_incentivized_reorder,\n",
    "    CASE\n",
    "      WHEN is_discount OR is_voucher THEN 0\n",
    "    ELSE\n",
    "    1\n",
    "  END\n",
    "    AS is_organic_reorder,\n",
    "    CONCAT(EXTRACT(MONTH\n",
    "      FROM\n",
    "        placed_at_local),\"-\",EXTRACT(YEAR\n",
    "      FROM\n",
    "        placed_at_local)) AS month_year,\n",
    "  FROM\n",
    "    `fulfillment-dwh-production.curated_data_shared_coredata_business.orders`\n",
    "  WHERE\n",
    "    partition_date_local BETWEEN DATE_TRUNC(DATE_SUB('2024-01-01', INTERVAL 1 MONTH), MONTH)\n",
    "    AND DATE_ADD(DATE_TRUNC(DATE_SUB('2024-01-01', INTERVAL 1 MONTH), MONTH), INTERVAL 27 DAY)\n",
    "    AND is_successful\n",
    "    AND analytical_customer_id IS NOT NULL\n",
    "    AND global_entity_id IN UNNEST([\"FO_NO\"]) ),\n",
    "  cust_first_order_each_month AS (\n",
    "  SELECT\n",
    "    * EXCEPT(placed_at_local),\n",
    "    ROW_NUMBER() OVER (PARTITION BY analytical_customer_id, month_year ORDER BY placed_at_local) AS row_num,\n",
    "  FROM\n",
    "    cust_orders ),\n",
    "  recency AS (\n",
    "  SELECT\n",
    "    global_entity_id,\n",
    "    analytical_customer_id,\n",
    "    DATE_DIFF(DATE_TRUNC(DATE_SUB('2024-01-01', INTERVAL 1 MONTH), MONTH), MIN(placed_at_local), DAY) AS first_order_recency,\n",
    "    COUNT(DISTINCT order_id) AS orders\n",
    "  FROM\n",
    "    `fulfillment-dwh-production.curated_data_shared_coredata_business.orders`\n",
    "  WHERE\n",
    "    is_successful IS TRUE\n",
    "    AND analytical_customer_id IS NOT NULL\n",
    "    AND global_entity_id IN UNNEST([\"FO_NO\"])\n",
    "    AND DATE(partition_date_local) <= DATE_TRUNC(DATE_SUB('2024-01-01', INTERVAL 1 MONTH), MONTH)\n",
    "  GROUP BY\n",
    "    global_entity_id,\n",
    "    analytical_customer_id ),\n",
    "  pred_scores_general AS (\n",
    "  SELECT\n",
    "    \"general_reorder\" AS model_type,\n",
    "    global_entity_id,\n",
    "    analytical_customer_id,\n",
    "    1 - concated_survival_scores[ORDINAL(28)] AS reorder_score,\n",
    "    scoring_date,\n",
    "    CONCAT(EXTRACT(MONTH\n",
    "      FROM\n",
    "        scoring_date),\"-\",EXTRACT(YEAR\n",
    "      FROM\n",
    "        scoring_date)) AS month_year\n",
    "  FROM\n",
    "    `mkt-reorder-prod.mkt_reorder_prod.predictions_rsf_mature_targeted_ALL`\n",
    "  WHERE\n",
    "    scoring_date IN (DATE_TRUNC(DATE_SUB('2024-01-01', INTERVAL 1 MONTH), MONTH)) ),\n",
    "  pred_scores_no_segments AS (\n",
    "  SELECT\n",
    "    *\n",
    "  FROM\n",
    "    pred_scores_general ),\n",
    "  pred_scores AS (\n",
    "  SELECT\n",
    "    p.*,\n",
    "    h.orders,\n",
    "    h.first_order_recency\n",
    "  FROM\n",
    "    pred_scores_no_segments p\n",
    "  LEFT JOIN (\n",
    "    SELECT\n",
    "      analytical_customer_id,\n",
    "      global_entity_id,\n",
    "      orders,\n",
    "      first_order_recency\n",
    "    FROM\n",
    "      recency \n",
    "     -- WHERE orders in (1,2,3,4,5,6,7,8,9,10) and first_order_recency in (1,2,3,4,5,6,7,8,9,10,11,12,13,14,15)\n",
    "      ) h\n",
    "  ON\n",
    "    h.analytical_customer_id = p.analytical_customer_id\n",
    "    AND h.global_entity_id = p.global_entity_id ),\n",
    "  merged_table AS (\n",
    "  SELECT\n",
    "    p.global_entity_id,\n",
    "    p.analytical_customer_id,\n",
    "    COALESCE(c.reordered, 0) AS reordered,\n",
    "    p.month_year,\n",
    "    p.reorder_score*100 AS reorder_score,\n",
    "    p.model_type,\n",
    "    p.orders,\n",
    "    p.first_order_recency\n",
    "  FROM\n",
    "    pred_scores AS p\n",
    "  LEFT JOIN (\n",
    "    SELECT\n",
    "      * EXCEPT(row_num)\n",
    "    FROM\n",
    "      cust_first_order_each_month\n",
    "    WHERE\n",
    "      row_num = 1 ) AS c\n",
    "  ON\n",
    "    p.global_entity_id = c.global_entity_id\n",
    "    AND p.analytical_customer_id = c.analytical_customer_id\n",
    "    AND p.month_year = c.month_year ),\n",
    "  binned_table AS (\n",
    "  SELECT\n",
    "    *,\n",
    "    CASE\n",
    "      WHEN reorder_score < 10 THEN \"[0,10)\"\n",
    "      WHEN reorder_score >= 10\n",
    "    AND reorder_score < 20 THEN \"[10,20)\"\n",
    "      WHEN reorder_score >= 20 AND reorder_score < 30 THEN \"[20,30)\"\n",
    "      WHEN reorder_score >= 30\n",
    "    AND reorder_score < 40 THEN \"[30,40)\"\n",
    "      WHEN reorder_score >= 40 AND reorder_score < 50 THEN \"[40,50)\"\n",
    "      WHEN reorder_score >= 50\n",
    "    AND reorder_score < 60 THEN \"[50,60)\"\n",
    "      WHEN reorder_score >= 60 AND reorder_score < 70 THEN \"[60,70)\"\n",
    "      WHEN reorder_score >= 70\n",
    "    AND reorder_score < 80 THEN \"[70,80)\"\n",
    "      WHEN reorder_score >= 80 AND reorder_score < 90 THEN \"[80,90)\"\n",
    "      WHEN reorder_score >= 90 THEN \"[90,100)\"\n",
    "    ELSE\n",
    "    \"invalid_value\"\n",
    "  END\n",
    "    AS reorder_bin,\n",
    "  FROM\n",
    "    merged_table ),\n",
    "  min_max_reorder AS (\n",
    "  SELECT\n",
    "    global_entity_id,\n",
    "    model_type,\n",
    "    month_year,\n",
    "    MAX(reorder_score) AS max_reorder_score,\n",
    "    MIN(reorder_score) AS min_reorder_score\n",
    "  FROM\n",
    "    binned_table\n",
    "  GROUP BY\n",
    "    model_type,\n",
    "    global_entity_id,\n",
    "    month_year )\n",
    "SELECT\n",
    "  r.global_entity_id,\n",
    "  r.analytical_customer_id,\n",
    "  r.reordered,\n",
    "  r.month_year,\n",
    "  r.reorder_score,\n",
    "  r.model_type,\n",
    "  r.reorder_bin,\n",
    "  (r.reorder_score - m.min_reorder_score)/(m.max_reorder_score - m.min_reorder_score) AS reorder_score_scaled,\n",
    "  r.orders,\n",
    "  r.first_order_recency\n",
    "FROM\n",
    "  binned_table AS r\n",
    "JOIN\n",
    "  min_max_reorder AS m\n",
    "ON\n",
    "  m.model_type = r.model_type\n",
    "  AND m.global_entity_id = r.global_entity_id\n",
    "  AND m.month_year = r.month_year\n",
    "'''"
   ]
  },
  {
   "cell_type": "code",
   "execution_count": 3,
   "metadata": {
    "collapsed": false,
    "jupyter": {
     "outputs_hidden": false
    },
    "pycharm": {
     "name": "#%%\n"
    }
   },
   "outputs": [
    {
     "name": "stderr",
     "output_type": "stream",
     "text": [
      "/Users/a.capuano/opt/miniconda3/envs/ml/lib/python3.10/site-packages/google/auth/_default.py:76: UserWarning: Your application has authenticated using end user credentials from Google Cloud SDK without a quota project. You might receive a \"quota exceeded\" or \"API not enabled\" error. See the following page for troubleshooting: https://cloud.google.com/docs/authentication/adc-troubleshooting/user-creds. \n",
      "  warnings.warn(_CLOUD_SDK_CREDENTIALS_WARNING)\n"
     ]
    },
    {
     "name": "stdout",
     "output_type": "stream",
     "text": [
      "Downloading: 100%|\u001B[32m██████████\u001B[0m|\n"
     ]
    }
   ],
   "source": [
    "df = pandas_gbq.read_gbq(q)"
   ]
  },
  {
   "cell_type": "code",
   "execution_count": 4,
   "metadata": {
    "collapsed": false,
    "jupyter": {
     "outputs_hidden": false
    },
    "pycharm": {
     "name": "#%%\n"
    }
   },
   "outputs": [
    {
     "data": {
      "text/html": [
       "<div>\n",
       "<style scoped>\n",
       "    .dataframe tbody tr th:only-of-type {\n",
       "        vertical-align: middle;\n",
       "    }\n",
       "\n",
       "    .dataframe tbody tr th {\n",
       "        vertical-align: top;\n",
       "    }\n",
       "\n",
       "    .dataframe thead th {\n",
       "        text-align: right;\n",
       "    }\n",
       "</style>\n",
       "<table border=\"1\" class=\"dataframe\">\n",
       "  <thead>\n",
       "    <tr style=\"text-align: right;\">\n",
       "      <th></th>\n",
       "      <th>global_entity_id</th>\n",
       "      <th>analytical_customer_id</th>\n",
       "      <th>reordered</th>\n",
       "      <th>month_year</th>\n",
       "      <th>reorder_score</th>\n",
       "      <th>model_type</th>\n",
       "      <th>reorder_bin</th>\n",
       "      <th>reorder_score_scaled</th>\n",
       "      <th>orders</th>\n",
       "      <th>first_order_recency</th>\n",
       "    </tr>\n",
       "  </thead>\n",
       "  <tbody>\n",
       "    <tr>\n",
       "      <th>0</th>\n",
       "      <td>OP_SE</td>\n",
       "      <td>KaDBs3s4XHWIW2iVD10Eww</td>\n",
       "      <td>0</td>\n",
       "      <td>12-2023</td>\n",
       "      <td>42.0</td>\n",
       "      <td>general_reorder</td>\n",
       "      <td>[40,50)</td>\n",
       "      <td>0.367816</td>\n",
       "      <td>&lt;NA&gt;</td>\n",
       "      <td>&lt;NA&gt;</td>\n",
       "    </tr>\n",
       "    <tr>\n",
       "      <th>1</th>\n",
       "      <td>OP_SE</td>\n",
       "      <td>NgEVnap4VTSJuGbecq2Fqg</td>\n",
       "      <td>0</td>\n",
       "      <td>12-2023</td>\n",
       "      <td>42.0</td>\n",
       "      <td>general_reorder</td>\n",
       "      <td>[40,50)</td>\n",
       "      <td>0.367816</td>\n",
       "      <td>&lt;NA&gt;</td>\n",
       "      <td>&lt;NA&gt;</td>\n",
       "    </tr>\n",
       "    <tr>\n",
       "      <th>2</th>\n",
       "      <td>OP_SE</td>\n",
       "      <td>SFRCNsOrVDK42tCnbtU1qA</td>\n",
       "      <td>0</td>\n",
       "      <td>12-2023</td>\n",
       "      <td>42.0</td>\n",
       "      <td>general_reorder</td>\n",
       "      <td>[40,50)</td>\n",
       "      <td>0.367816</td>\n",
       "      <td>&lt;NA&gt;</td>\n",
       "      <td>&lt;NA&gt;</td>\n",
       "    </tr>\n",
       "    <tr>\n",
       "      <th>3</th>\n",
       "      <td>OP_SE</td>\n",
       "      <td>JGeuGRxrXZyAfkitG9CgOw</td>\n",
       "      <td>0</td>\n",
       "      <td>12-2023</td>\n",
       "      <td>42.0</td>\n",
       "      <td>general_reorder</td>\n",
       "      <td>[40,50)</td>\n",
       "      <td>0.367816</td>\n",
       "      <td>&lt;NA&gt;</td>\n",
       "      <td>&lt;NA&gt;</td>\n",
       "    </tr>\n",
       "    <tr>\n",
       "      <th>4</th>\n",
       "      <td>OP_SE</td>\n",
       "      <td>RlcLNC6bVYu7QmZ6uGsj8w</td>\n",
       "      <td>0</td>\n",
       "      <td>12-2023</td>\n",
       "      <td>42.0</td>\n",
       "      <td>general_reorder</td>\n",
       "      <td>[40,50)</td>\n",
       "      <td>0.367816</td>\n",
       "      <td>&lt;NA&gt;</td>\n",
       "      <td>&lt;NA&gt;</td>\n",
       "    </tr>\n",
       "  </tbody>\n",
       "</table>\n",
       "</div>"
      ],
      "text/plain": [
       "  global_entity_id  analytical_customer_id  reordered month_year  \\\n",
       "0            OP_SE  KaDBs3s4XHWIW2iVD10Eww          0    12-2023   \n",
       "1            OP_SE  NgEVnap4VTSJuGbecq2Fqg          0    12-2023   \n",
       "2            OP_SE  SFRCNsOrVDK42tCnbtU1qA          0    12-2023   \n",
       "3            OP_SE  JGeuGRxrXZyAfkitG9CgOw          0    12-2023   \n",
       "4            OP_SE  RlcLNC6bVYu7QmZ6uGsj8w          0    12-2023   \n",
       "\n",
       "   reorder_score       model_type reorder_bin  reorder_score_scaled  orders  \\\n",
       "0           42.0  general_reorder     [40,50)              0.367816    <NA>   \n",
       "1           42.0  general_reorder     [40,50)              0.367816    <NA>   \n",
       "2           42.0  general_reorder     [40,50)              0.367816    <NA>   \n",
       "3           42.0  general_reorder     [40,50)              0.367816    <NA>   \n",
       "4           42.0  general_reorder     [40,50)              0.367816    <NA>   \n",
       "\n",
       "   first_order_recency  \n",
       "0                 <NA>  \n",
       "1                 <NA>  \n",
       "2                 <NA>  \n",
       "3                 <NA>  \n",
       "4                 <NA>  "
      ]
     },
     "execution_count": 4,
     "metadata": {},
     "output_type": "execute_result"
    }
   ],
   "source": [
    "df.head()"
   ]
  },
  {
   "cell_type": "markdown",
   "metadata": {
    "collapsed": false,
    "jupyter": {
     "outputs_hidden": false
    },
    "pycharm": {
     "name": "#%% md\n"
    }
   },
   "source": [
    "The following functions to calculate the model performance can be found at https://github.com/deliveryhero/datahub-airflow/blob/main/dags/mkt/mkt_reorder_performance_pipeline.py"
   ]
  },
  {
   "cell_type": "code",
   "execution_count": 5,
   "metadata": {
    "collapsed": false,
    "jupyter": {
     "outputs_hidden": false
    },
    "pycharm": {
     "name": "#%%\n"
    }
   },
   "outputs": [],
   "source": [
    "def model_evaluation_metrices(y_true, y_pred_binary, ypred_score):\n",
    "    cm = confusion_matrix(y_true, y_pred_binary)\n",
    "    tn, fp, fn, tp = cm.ravel()\n",
    "    # auc = roc_auc_score(y_true,y_pred)\n",
    "    recall = tp / (tp + fn)\n",
    "    specificity = tn / (tn + fp)\n",
    "    precision = tp / (tp + fp)\n",
    "    accuracy = (tp + tn) / (tn + fp + fn + tp)\n",
    "    f1_score = (2 * tp) / (2 * tp + fp + fn)\n",
    "    # calculate precision-recall curve\n",
    "    precision_for_auc, recall_for_auc, thresholds_vals = precision_recall_curve(\n",
    "        y_true, y_pred_binary\n",
    "    )\n",
    "    # calculate precision-recall AUC\n",
    "    precision_recall_auc = auc(recall_for_auc, precision_for_auc)\n",
    "    roc_auc = roc_auc_score(y_true=y_true, y_score=ypred_score)\n",
    "\n",
    "    return (\n",
    "        round(accuracy, 2),\n",
    "        round(recall, 2),\n",
    "        round(specificity, 2),\n",
    "        round(f1_score, 2),\n",
    "        round(precision, 2),\n",
    "        round(roc_auc, 2),\n",
    "        round(precision_recall_auc, 2),\n",
    "    )\n",
    "\n",
    "def make_results(df, filter_col):\n",
    "    df_store_final = pd.DataFrame(\n",
    "            columns=[\n",
    "                \"threshold\",\n",
    "                \"lifecycle_segment\",\n",
    "                \"accuracy\",\n",
    "                \"recall\",\n",
    "                \"specificity\",\n",
    "                \"f1_score\",\n",
    "                \"precision\",\n",
    "                \"roc_auc\",\n",
    "                \"precision_recall_auc\",\n",
    "            ]\n",
    "        )\n",
    "\n",
    "    for segment in df[filter_col].unique():\n",
    "        df_filtered = df[df[filter_col]==segment]\n",
    "        for mythres in [0.3, 0.5, 0.7]:\n",
    "            binary_pred = df_filtered[\"reorder_score_scaled\"].apply(\n",
    "                lambda x: 1 if x > mythres else 0\n",
    "            )\n",
    "            if (df_filtered[\"reordered\"].nunique() < 2) | (\n",
    "                binary_pred.nunique() < 2\n",
    "            ):\n",
    "                continue\n",
    "\n",
    "            (\n",
    "                accuracy,\n",
    "                recall,\n",
    "                specificity,\n",
    "                f1_score,\n",
    "                precision,\n",
    "                roc_auc,\n",
    "                precision_recall_auc,\n",
    "            ) = model_evaluation_metrices(\n",
    "                y_true=df_filtered[\"reordered\"].to_list(),\n",
    "                y_pred_binary=binary_pred,\n",
    "                ypred_score=df_filtered[\"reorder_score_scaled\"],\n",
    "        )\n",
    "\n",
    "            df_store = pd.DataFrame(\n",
    "                                index=[0],\n",
    "                                columns=[\n",
    "                                    \"threshold\",\n",
    "                                    \"lifecycle_segment\",\n",
    "                                    \"accuracy\",\n",
    "                                    \"recall\",\n",
    "                                    \"specificity\",\n",
    "                                    \"f1_score\",\n",
    "                                    \"precision\",\n",
    "                                    \"roc_auc\",\n",
    "                                    \"precision_recall_auc\",\n",
    "                                ],\n",
    "                            )\n",
    "            df_store[\"threshold\"] = mythres\n",
    "            df_store[\"lifecycle_segment\"] = segment\n",
    "            df_store[\"accuracy\"] = accuracy\n",
    "            df_store[\"recall\"] = recall\n",
    "            df_store[\"specificity\"] = specificity\n",
    "            df_store[\"f1_score\"] = f1_score\n",
    "            df_store[\"precision\"] = precision\n",
    "            df_store[\"roc_auc\"] = roc_auc\n",
    "            df_store[\"precision_recall_auc\"] = precision_recall_auc\n",
    "            df_store_final = pd.concat(\n",
    "                [df_store_final, df_store], axis=0, ignore_index=True\n",
    "            )\n",
    "    return df_store_final"
   ]
  },
  {
   "cell_type": "code",
   "execution_count": 6,
   "metadata": {
    "collapsed": false,
    "jupyter": {
     "outputs_hidden": false
    },
    "pycharm": {
     "name": "#%%\n"
    }
   },
   "outputs": [
    {
     "name": "stdout",
     "output_type": "stream",
     "text": [
      "      threshold lifecycle_segment  accuracy  recall  specificity  f1_score  \\\n",
      "0           0.3                 2      0.85    0.17         0.95      0.23   \n",
      "1           0.5                 2      0.87    0.00         1.00      0.00   \n",
      "2           0.7                 2      0.87    0.00         1.00      0.00   \n",
      "3           0.3                 3      0.80    0.30         0.89      0.33   \n",
      "4           0.5                 3      0.84    0.06         0.99      0.11   \n",
      "...         ...               ...       ...     ...          ...       ...   \n",
      "1433        0.7               548      1.00    1.00         1.00      1.00   \n",
      "1434        0.3               626      1.00    1.00         1.00      1.00   \n",
      "1435        0.5               626      1.00    1.00         1.00      1.00   \n",
      "1436        0.7               626      1.00    1.00         1.00      1.00   \n",
      "1437        0.7               596      1.00    1.00         1.00      1.00   \n",
      "\n",
      "      precision  roc_auc  precision_recall_auc  \n",
      "0          0.32     0.66                  0.30  \n",
      "1          0.04     0.66                  0.08  \n",
      "2          0.00     0.66                  0.06  \n",
      "3          0.36     0.67                  0.39  \n",
      "4          0.52     0.67                  0.37  \n",
      "...         ...      ...                   ...  \n",
      "1433       1.00     1.00                  1.00  \n",
      "1434       1.00     1.00                  1.00  \n",
      "1435       1.00     1.00                  1.00  \n",
      "1436       1.00     1.00                  1.00  \n",
      "1437       1.00     1.00                  1.00  \n",
      "\n",
      "[1438 rows x 9 columns]\n"
     ]
    }
   ],
   "source": [
    "results = make_results(df, filter_col='orders')\n",
    "print(results)"
   ]
  },
  {
   "cell_type": "code",
   "execution_count": 7,
   "metadata": {
    "collapsed": false,
    "jupyter": {
     "outputs_hidden": false
    },
    "pycharm": {
     "name": "#%%\n"
    }
   },
   "outputs": [
    {
     "data": {
      "text/plain": [
       "<IntegerArray>\n",
       "[<NA>,    2,    3,    1,   14,   11,   13,   27,    5,    4,\n",
       " ...\n",
       "  601,  728,  607, 1688,  794, 1559,  758,  909,  666,  843]\n",
       "Length: 851, dtype: Int64"
      ]
     },
     "execution_count": 7,
     "metadata": {},
     "output_type": "execute_result"
    }
   ],
   "source": [
    "df['orders'].unique()"
   ]
  },
  {
   "cell_type": "code",
   "execution_count": 8,
   "metadata": {},
   "outputs": [
    {
     "name": "stdout",
     "output_type": "stream",
     "text": [
      "      threshold lifecycle_segment  accuracy  recall  specificity  f1_score  \\\n",
      "0           0.3                54      0.83    0.55         0.89      0.54   \n",
      "1           0.5                54      0.84    0.30         0.96      0.40   \n",
      "2           0.7                54      0.83    0.08         1.00      0.14   \n",
      "3           0.3               512      0.69    0.70         0.69      0.60   \n",
      "4           0.5               512      0.73    0.48         0.85      0.53   \n",
      "...         ...               ...       ...     ...          ...       ...   \n",
      "8908        0.5              3011      1.00    1.00         1.00      1.00   \n",
      "8909        0.7              3011      1.00    1.00         1.00      1.00   \n",
      "8910        0.3              2405      0.75    1.00         0.50      0.80   \n",
      "8911        0.5              2405      0.50    0.50         0.50      0.50   \n",
      "8912        0.7              2405      0.75    0.50         1.00      0.67   \n",
      "\n",
      "      precision  roc_auc  precision_recall_auc  \n",
      "0          0.53     0.78                  0.58  \n",
      "1          0.63     0.78                  0.53  \n",
      "2          0.81     0.78                  0.53  \n",
      "3          0.52     0.75                  0.66  \n",
      "4          0.60     0.75                  0.62  \n",
      "...         ...      ...                   ...  \n",
      "8908       1.00     1.00                  1.00  \n",
      "8909       1.00     1.00                  1.00  \n",
      "8910       0.67     0.75                  0.83  \n",
      "8911       0.50     0.75                  0.62  \n",
      "8912       1.00     0.75                  0.88  \n",
      "\n",
      "[8913 rows x 9 columns]\n"
     ]
    }
   ],
   "source": [
    "results_rec = make_results(df, filter_col='first_order_recency')\n",
    "print(results_rec)"
   ]
  },
  {
   "cell_type": "code",
   "execution_count": 9,
   "metadata": {},
   "outputs": [
    {
     "data": {
      "text/plain": [
       "<IntegerArray>\n",
       "[<NA>,   54,  512,  957,  357,   19,    4,    5,  107, 1220,\n",
       " ...\n",
       " 3031, 3048, 2995, 2999, 2998, 3039, 2963, 2997, 2996, 3013]\n",
       "Length: 3025, dtype: Int64"
      ]
     },
     "execution_count": 9,
     "metadata": {},
     "output_type": "execute_result"
    }
   ],
   "source": [
    "df['first_order_recency'].unique()"
   ]
  },
  {
   "cell_type": "code",
   "execution_count": 10,
   "metadata": {},
   "outputs": [],
   "source": [
    "results.to_csv('FO_NO_2024_01_01_performance_orders_number.csv')"
   ]
  },
  {
   "cell_type": "code",
   "execution_count": 11,
   "metadata": {},
   "outputs": [],
   "source": [
    "results_rec.to_csv('FO_NO_2024_01_01_performance_first_order_recency.csv')"
   ]
  }
 ],
 "metadata": {
  "kernelspec": {
   "display_name": "Python 3 (ipykernel)",
   "language": "python",
   "name": "python3"
  },
  "language_info": {
   "codemirror_mode": {
    "name": "ipython",
    "version": 3
   },
   "file_extension": ".py",
   "mimetype": "text/x-python",
   "name": "python",
   "nbconvert_exporter": "python",
   "pygments_lexer": "ipython3",
   "version": "3.10.1"
  }
 },
 "nbformat": 4,
 "nbformat_minor": 4
}
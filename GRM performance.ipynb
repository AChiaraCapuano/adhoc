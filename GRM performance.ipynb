{
 "cells": [
  {
   "cell_type": "code",
   "execution_count": 1,
   "metadata": {
    "collapsed": true
   },
   "outputs": [],
   "source": [
    "import pandas_gbq"
   ]
  },
  {
   "cell_type": "code",
   "execution_count": 2,
   "outputs": [],
   "source": [
    "q='''\n",
    "with orders as (select analytical_customer_id, global_entity_id, count(analytical_customer_id) as orders_count from `fulfillment-dwh-production.curated_data_shared_coredata_business.orders` where partition_date_local between \"2023-08-28\" and \"2023-08-31\" and global_entity_id=\"FP_TH\"\n",
    "group by analytical_customer_id, global_entity_id),\n",
    "scores as (select r.analytical_customer_id, case when o.analytical_customer_id is null then \"0\" else \"1\" end as reordered, r.global_entity_id, CAST((concated_survival_scores[SAFE_OFFSET(1)] * 100 ) AS INTEGER) AS score,\n",
    " from `mkt-reorder-prod.mkt_reorder_prod.historical_predictions_reorder-general-all-ALL` r\n",
    "left join (select distinct analytical_customer_id, global_entity_id from `fulfillment-dwh-production.curated_data_shared_coredata_business.orders` where partition_date_local = \"2023-09-01\" and global_entity_id=\"FP_TH\") o on r.analytical_customer_id = o.analytical_customer_id and r.global_entity_id = o.global_entity_id\n",
    "where scoring_date = \"2023-09-01\" and r.global_entity_id=\"FP_TH\"\n",
    ")\n",
    "\n",
    "select * from scores left join orders using(analytical_customer_id, global_entity_id)\n",
    "'''"
   ],
   "metadata": {
    "collapsed": false,
    "pycharm": {
     "name": "#%%\n"
    }
   }
  },
  {
   "cell_type": "code",
   "execution_count": 3,
   "outputs": [
    {
     "name": "stderr",
     "output_type": "stream",
     "text": [
      "/Users/a.capuano/opt/miniconda3/envs/ml/lib/python3.10/site-packages/google/auth/_default.py:83: UserWarning: Your application has authenticated using end user credentials from Google Cloud SDK without a quota project. You might receive a \"quota exceeded\" or \"API not enabled\" error. We recommend you rerun `gcloud auth application-default login` and make sure a quota project is added. Or you can use service accounts instead. For more information about service accounts, see https://cloud.google.com/docs/authentication/\n",
      "  warnings.warn(_CLOUD_SDK_CREDENTIALS_WARNING)\n"
     ]
    },
    {
     "name": "stdout",
     "output_type": "stream",
     "text": [
      "Downloading: 100%|\u001B[32m██████████\u001B[0m|\n"
     ]
    }
   ],
   "source": [
    "df = pandas_gbq.read_gbq(q)"
   ],
   "metadata": {
    "collapsed": false,
    "pycharm": {
     "name": "#%%\n"
    }
   }
  },
  {
   "cell_type": "code",
   "execution_count": 4,
   "outputs": [
    {
     "data": {
      "text/plain": "   analytical_customer_id global_entity_id reordered  score  orders_count\n0  -Ao70eiTVU6pKLJCWeAidw            FP_TH         0     60          <NA>\n1  -21fPl8RUiGgk9P2edsNmw            FP_TH         0     60             3\n2  -SgSKf3dUdCM7kB4-4yXEQ            FP_TH         0     60             3\n3  -R3v8M_XXM-GhjwQG-DjXQ            FP_TH         1     60             1\n4  -BarGE6aXF6SpR-xHgbWlw            FP_TH         0     60             2",
      "text/html": "<div>\n<style scoped>\n    .dataframe tbody tr th:only-of-type {\n        vertical-align: middle;\n    }\n\n    .dataframe tbody tr th {\n        vertical-align: top;\n    }\n\n    .dataframe thead th {\n        text-align: right;\n    }\n</style>\n<table border=\"1\" class=\"dataframe\">\n  <thead>\n    <tr style=\"text-align: right;\">\n      <th></th>\n      <th>analytical_customer_id</th>\n      <th>global_entity_id</th>\n      <th>reordered</th>\n      <th>score</th>\n      <th>orders_count</th>\n    </tr>\n  </thead>\n  <tbody>\n    <tr>\n      <th>0</th>\n      <td>-Ao70eiTVU6pKLJCWeAidw</td>\n      <td>FP_TH</td>\n      <td>0</td>\n      <td>60</td>\n      <td>&lt;NA&gt;</td>\n    </tr>\n    <tr>\n      <th>1</th>\n      <td>-21fPl8RUiGgk9P2edsNmw</td>\n      <td>FP_TH</td>\n      <td>0</td>\n      <td>60</td>\n      <td>3</td>\n    </tr>\n    <tr>\n      <th>2</th>\n      <td>-SgSKf3dUdCM7kB4-4yXEQ</td>\n      <td>FP_TH</td>\n      <td>0</td>\n      <td>60</td>\n      <td>3</td>\n    </tr>\n    <tr>\n      <th>3</th>\n      <td>-R3v8M_XXM-GhjwQG-DjXQ</td>\n      <td>FP_TH</td>\n      <td>1</td>\n      <td>60</td>\n      <td>1</td>\n    </tr>\n    <tr>\n      <th>4</th>\n      <td>-BarGE6aXF6SpR-xHgbWlw</td>\n      <td>FP_TH</td>\n      <td>0</td>\n      <td>60</td>\n      <td>2</td>\n    </tr>\n  </tbody>\n</table>\n</div>"
     },
     "execution_count": 4,
     "metadata": {},
     "output_type": "execute_result"
    }
   ],
   "source": [
    "df.head()"
   ],
   "metadata": {
    "collapsed": false,
    "pycharm": {
     "name": "#%%\n"
    }
   }
  },
  {
   "cell_type": "markdown",
   "source": [
    "Customers we have prediction for that did not order:"
   ],
   "metadata": {
    "collapsed": false,
    "pycharm": {
     "name": "#%% md\n"
    }
   }
  },
  {
   "cell_type": "code",
   "execution_count": 6,
   "outputs": [
    {
     "data": {
      "text/plain": "95.1547411833185"
     },
     "execution_count": 6,
     "metadata": {},
     "output_type": "execute_result"
    }
   ],
   "source": [
    "100*len(df[df['reordered']=='0'])/len(df)"
   ],
   "metadata": {
    "collapsed": false,
    "pycharm": {
     "name": "#%%\n"
    }
   }
  },
  {
   "cell_type": "markdown",
   "source": [
    "Past orders vs predicted score"
   ],
   "metadata": {
    "collapsed": false,
    "pycharm": {
     "name": "#%% md\n"
    }
   }
  },
  {
   "cell_type": "code",
   "execution_count": 11,
   "outputs": [
    {
     "data": {
      "text/plain": "<AxesSubplot:xlabel='orders_count', ylabel='score'>"
     },
     "execution_count": 11,
     "metadata": {},
     "output_type": "execute_result"
    },
    {
     "data": {
      "text/plain": "<Figure size 432x288 with 1 Axes>",
      "image/png": "[encoded data removed]"
     },
     "metadata": {
      "needs_background": "light"
     },
     "output_type": "display_data"
    }
   ],
   "source": [
    "df[df['reordered']=='1'].plot.scatter(y='score', x='orders_count', grid=True)"
   ],
   "metadata": {
    "collapsed": false,
    "pycharm": {
     "name": "#%%\n"
    }
   }
  },
  {
   "cell_type": "code",
   "execution_count": null,
   "outputs": [],
   "source": [],
   "metadata": {
    "collapsed": false,
    "pycharm": {
     "name": "#%%\n"
    }
   }
  }
 ],
 "metadata": {
  "kernelspec": {
   "display_name": "Python 3",
   "language": "python",
   "name": "python3"
  },
  "language_info": {
   "codemirror_mode": {
    "name": "ipython",
    "version": 2
   },
   "file_extension": ".py",
   "mimetype": "text/x-python",
   "name": "python",
   "nbconvert_exporter": "python",
   "pygments_lexer": "ipython2",
   "version": "2.7.6"
  }
 },
 "nbformat": 4,
 "nbformat_minor": 0
}
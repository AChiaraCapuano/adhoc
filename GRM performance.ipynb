{
 "cells": [
  {
   "cell_type": "code",
   "execution_count": 1,
   "metadata": {
    "collapsed": true
   },
   "outputs": [],
   "source": [
    "import pandas_gbq"
   ]
  },
  {
   "cell_type": "code",
   "execution_count": 2,
   "outputs": [],
   "source": [
    "q='''\n",
    "with orders as (select analytical_customer_id, global_entity_id, count(analytical_customer_id) as orders_count from `fulfillment-dwh-production.curated_data_shared_coredata_business.orders` where partition_date_local between \"2023-08-28\" and \"2023-08-31\" and global_entity_id=\"FP_TH\"\n",
    "group by analytical_customer_id, global_entity_id),\n",
    "scores as (select r.analytical_customer_id, case when o.analytical_customer_id is null then \"0\" else \"1\" end as reordered, r.global_entity_id, CAST((concated_survival_scores[SAFE_OFFSET(1)] * 100 ) AS INTEGER) AS score,\n",
    " from `mkt-reorder-prod.mkt_reorder_prod.historical_predictions_reorder-general-all-ALL` r\n",
    "left join (select distinct analytical_customer_id, global_entity_id from `fulfillment-dwh-production.curated_data_shared_coredata_business.orders` where partition_date_local = \"2023-09-01\" and global_entity_id=\"FP_TH\") o on r.analytical_customer_id = o.analytical_customer_id and r.global_entity_id = o.global_entity_id\n",
    "where scoring_date = \"2023-09-01\" and r.global_entity_id=\"FP_TH\"\n",
    ")\n",
    "\n",
    "select * from scores left join orders using(analytical_customer_id, global_entity_id)\n",
    "'''"
   ],
   "metadata": {
    "collapsed": false,
    "pycharm": {
     "name": "#%%\n"
    }
   }
  },
  {
   "cell_type": "code",
   "execution_count": null,
   "outputs": [
    {
     "name": "stderr",
     "output_type": "stream",
     "text": [
      "/Users/a.capuano/opt/miniconda3/envs/ml/lib/python3.10/site-packages/google/auth/_default.py:83: UserWarning: Your application has authenticated using end user credentials from Google Cloud SDK without a quota project. You might receive a \"quota exceeded\" or \"API not enabled\" error. We recommend you rerun `gcloud auth application-default login` and make sure a quota project is added. Or you can use service accounts instead. For more information about service accounts, see https://cloud.google.com/docs/authentication/\n",
      "  warnings.warn(_CLOUD_SDK_CREDENTIALS_WARNING)\n"
     ]
    }
   ],
   "source": [
    "df = pandas_gbq.read_gbq(q)"
   ],
   "metadata": {
    "collapsed": false,
    "pycharm": {
     "name": "#%%\n",
     "is_executing": true
    }
   }
  }
 ],
 "metadata": {
  "kernelspec": {
   "display_name": "Python 3",
   "language": "python",
   "name": "python3"
  },
  "language_info": {
   "codemirror_mode": {
    "name": "ipython",
    "version": 2
   },
   "file_extension": ".py",
   "mimetype": "text/x-python",
   "name": "python",
   "nbconvert_exporter": "python",
   "pygments_lexer": "ipython2",
   "version": "2.7.6"
  }
 },
 "nbformat": 4,
 "nbformat_minor": 0
}
{
 "cells": [
  {
   "cell_type": "code",
   "execution_count": 71,
   "metadata": {
    "collapsed": true
   },
   "outputs": [],
   "source": [
    "import pandas_gbq\n",
    "import pandas as pd\n",
    "import numpy as np"
   ]
  },
  {
   "cell_type": "code",
   "execution_count": 8,
   "outputs": [],
   "source": [
    "from sklearn.metrics import auc, confusion_matrix, precision_recall_curve, roc_auc_score"
   ],
   "metadata": {
    "collapsed": false,
    "pycharm": {
     "name": "#%%\n"
    }
   }
  },
  {
   "cell_type": "code",
   "execution_count": 81,
   "outputs": [],
   "source": [
    "q='''\n",
    "WITH cust_orders AS (\n",
    "    SELECT DISTINCT\n",
    "      global_entity_id,\n",
    "      analytical_customer_id,\n",
    "      1 AS reordered,\n",
    "      orders_count,\n",
    "      lifecycle_segment\n",
    "    FROM `fulfillment-dwh-production.curated_data_shared_coredata_business.orders`\n",
    "    LEFT JOIN (SELECT analytical_customer_id, COUNT(analytical_customer_id) as orders_count FROM `fulfillment-dwh-production.curated_data_shared_coredata_business.orders`\n",
    "    WHERE partition_date_local between \"2023-07-31\" and \"2023-08-31\" and global_entity_id=\"FO_NO\" GROUP BY analytical_customer_id)USING(analytical_customer_id)\n",
    "    LEFT JOIN (SELECT analytical_customer_id, lifecycle_segment FROM `fulfillment-dwh-production.cl_mkt._reorder_lifecycle_segmentation_history` WHERE computation_date = \"2023-09-01\" and global_entity_id=\"FO_NO\")USING(analytical_customer_id)\n",
    "    WHERE partition_date_local = \"2023-09-01\" and global_entity_id=\"FO_NO\"\n",
    "      AND is_successful\n",
    "      AND analytical_customer_id IS NOT NULL\n",
    "      order by analytical_customer_id\n",
    "  ),\n",
    "\n",
    "\n",
    "  pred_scores AS (\n",
    "    SELECT\n",
    "      \"general_reorder\" AS model_type,\n",
    "      global_entity_id,\n",
    "      analytical_customer_id,\n",
    "      1 - concated_survival_scores[ORDINAL(30)] AS reorder_score,\n",
    "      scoring_date,\n",
    "      CONCAT(EXTRACT(MONTH FROM scoring_date),\"-\",EXTRACT(YEAR FROM scoring_date)) AS month_year\n",
    "    FROM `mkt-reorder-prod.mkt_reorder_prod.predictions_rsf_mature_targeted_ALL`\n",
    "    WHERE scoring_date = \"2023-09-01\" and global_entity_id=\"FO_NO\"\n",
    "  ),\n",
    "\n",
    "\n",
    "  merged_table AS (\n",
    "  SELECT\n",
    "    p.global_entity_id,\n",
    "    p.analytical_customer_id,\n",
    "    COALESCE(c.reordered, 0) AS reordered,\n",
    "    p.reorder_score*100 AS reorder_score,\n",
    "    p.model_type,\n",
    "    c.orders_count,\n",
    "    c.lifecycle_segment\n",
    "  FROM pred_scores AS p\n",
    "  LEFT JOIN (\n",
    "    SELECT\n",
    "      *\n",
    "    FROM cust_orders\n",
    "  ) AS c\n",
    "    ON p.global_entity_id = c.global_entity_id\n",
    "      AND p.analytical_customer_id = c.analytical_customer_id\n",
    "  ),\n",
    "\n",
    "  binned_table AS (\n",
    "    SELECT\n",
    "      *,\n",
    "      CASE WHEN reorder_score < 10 THEN \"[0,10)\"\n",
    "          WHEN reorder_score >= 10 AND reorder_score < 20 THEN \"[10,20)\"\n",
    "          WHEN reorder_score >= 20 AND reorder_score < 30 THEN \"[20,30)\"\n",
    "          WHEN reorder_score >= 30 AND reorder_score < 40 THEN \"[30,40)\"\n",
    "          WHEN reorder_score >= 40 AND reorder_score < 50 THEN \"[40,50)\"\n",
    "          WHEN reorder_score >= 50 AND reorder_score < 60 THEN \"[50,60)\"\n",
    "          WHEN reorder_score >= 60 AND reorder_score < 70 THEN \"[60,70)\"\n",
    "          WHEN reorder_score >= 70 AND reorder_score < 80 THEN \"[70,80)\"\n",
    "          WHEN reorder_score >= 80 AND reorder_score < 90 THEN \"[80,90)\"\n",
    "          WHEN reorder_score >= 90 THEN \"[90,100)\"\n",
    "        ELSE \"invalid_value\" END AS reorder_bin,\n",
    "    FROM merged_table\n",
    "  ),\n",
    "\n",
    "  min_max_reorder AS (\n",
    "    SELECT\n",
    "      global_entity_id,\n",
    "      model_type,\n",
    "      max(reorder_score) AS max_reorder_score,\n",
    "      min(reorder_score) AS min_reorder_score\n",
    "    FROM binned_table\n",
    "    GROUP BY model_type, global_entity_id\n",
    "  )\n",
    "\n",
    "  SELECT\n",
    "    r.global_entity_id,\n",
    "    r.analytical_customer_id,\n",
    "    r.reordered,\n",
    "    r.reorder_score,\n",
    "    r.model_type,\n",
    "    r.reorder_bin,\n",
    "    SAFE_DIVIDE((r.reorder_score - m.min_reorder_score),(m.max_reorder_score - m.min_reorder_score)) AS reorder_score_scaled,\n",
    "    r.orders_count,\n",
    "    r.lifecycle_segment\n",
    "  FROM binned_table AS r\n",
    "  JOIN min_max_reorder AS m\n",
    "    ON m.model_type = r.model_type\n",
    "    AND m.global_entity_id = r.global_entity_id\n",
    "  ORDER BY r.global_entity_id DESC, r.analytical_customer_id DESC\n",
    "'''"
   ],
   "metadata": {
    "collapsed": false,
    "pycharm": {
     "name": "#%%\n"
    }
   }
  },
  {
   "cell_type": "code",
   "execution_count": 82,
   "outputs": [
    {
     "name": "stdout",
     "output_type": "stream",
     "text": [
      "\n",
      "\n",
      "Downloading:  20%|\u001B[32m██        \u001B[0m|\u001B[A\u001B[A\n",
      "\n",
      "\n",
      "Downloading:  19%|\u001B[32m█▉        \u001B[0m|\u001B[A\u001B[A\n",
      "\n",
      "Downloading:  39%|\u001B[32m███▉      \u001B[0m|\u001B[A\u001B[A\n",
      "\n",
      "Downloading:  39%|\u001B[32m███▉      \u001B[0m|\u001B[A\u001B[A\n",
      "\n",
      "Downloading:  58%|\u001B[32m█████▊    \u001B[0m|\u001B[A\u001B[A\n",
      "\n",
      "Downloading:  78%|\u001B[32m███████▊  \u001B[0m|\u001B[A\u001B[A\n",
      "\n",
      "Downloading:  97%|\u001B[32m█████████▋\u001B[0m|\u001B[A\u001B[A\n",
      "\n",
      "Downloading: 100%|\u001B[32m██████████\u001B[0m|\u001B[A\u001B[A\n"
     ]
    }
   ],
   "source": [
    "df = pandas_gbq.read_gbq(q)"
   ],
   "metadata": {
    "collapsed": false,
    "pycharm": {
     "name": "#%%\n"
    }
   }
  },
  {
   "cell_type": "code",
   "execution_count": 83,
   "outputs": [
    {
     "data": {
      "text/plain": "  global_entity_id  analytical_customer_id  reordered  reorder_score  \\\n0            FO_NO  zzzkWUb3VfWumbq3Tkuo8w          0           13.0   \n1            FO_NO  zzz7BeAcWDePeohCblcE3w          0           25.0   \n2            FO_NO  zzybLe9vWfa2mP6dbhdH8w          0           30.0   \n3            FO_NO  zzyZj0KTUzCzV5KSLP82Jg          0           37.0   \n4            FO_NO  zzyC-PznVQWqZyz_mXR97g          0           45.0   \n\n        model_type reorder_bin  reorder_score_scaled  orders_count  \\\n0  general_reorder     [10,20)              0.023810          <NA>   \n1  general_reorder     [20,30)              0.166667          <NA>   \n2  general_reorder     [30,40)              0.226190          <NA>   \n3  general_reorder     [30,40)              0.309524          <NA>   \n4  general_reorder     [40,50)              0.404762          <NA>   \n\n  lifecycle_segment  \n0              None  \n1              None  \n2              None  \n3              None  \n4              None  ",
      "text/html": "<div>\n<style scoped>\n    .dataframe tbody tr th:only-of-type {\n        vertical-align: middle;\n    }\n\n    .dataframe tbody tr th {\n        vertical-align: top;\n    }\n\n    .dataframe thead th {\n        text-align: right;\n    }\n</style>\n<table border=\"1\" class=\"dataframe\">\n  <thead>\n    <tr style=\"text-align: right;\">\n      <th></th>\n      <th>global_entity_id</th>\n      <th>analytical_customer_id</th>\n      <th>reordered</th>\n      <th>reorder_score</th>\n      <th>model_type</th>\n      <th>reorder_bin</th>\n      <th>reorder_score_scaled</th>\n      <th>orders_count</th>\n      <th>lifecycle_segment</th>\n    </tr>\n  </thead>\n  <tbody>\n    <tr>\n      <th>0</th>\n      <td>FO_NO</td>\n      <td>zzzkWUb3VfWumbq3Tkuo8w</td>\n      <td>0</td>\n      <td>13.0</td>\n      <td>general_reorder</td>\n      <td>[10,20)</td>\n      <td>0.023810</td>\n      <td>&lt;NA&gt;</td>\n      <td>None</td>\n    </tr>\n    <tr>\n      <th>1</th>\n      <td>FO_NO</td>\n      <td>zzz7BeAcWDePeohCblcE3w</td>\n      <td>0</td>\n      <td>25.0</td>\n      <td>general_reorder</td>\n      <td>[20,30)</td>\n      <td>0.166667</td>\n      <td>&lt;NA&gt;</td>\n      <td>None</td>\n    </tr>\n    <tr>\n      <th>2</th>\n      <td>FO_NO</td>\n      <td>zzybLe9vWfa2mP6dbhdH8w</td>\n      <td>0</td>\n      <td>30.0</td>\n      <td>general_reorder</td>\n      <td>[30,40)</td>\n      <td>0.226190</td>\n      <td>&lt;NA&gt;</td>\n      <td>None</td>\n    </tr>\n    <tr>\n      <th>3</th>\n      <td>FO_NO</td>\n      <td>zzyZj0KTUzCzV5KSLP82Jg</td>\n      <td>0</td>\n      <td>37.0</td>\n      <td>general_reorder</td>\n      <td>[30,40)</td>\n      <td>0.309524</td>\n      <td>&lt;NA&gt;</td>\n      <td>None</td>\n    </tr>\n    <tr>\n      <th>4</th>\n      <td>FO_NO</td>\n      <td>zzyC-PznVQWqZyz_mXR97g</td>\n      <td>0</td>\n      <td>45.0</td>\n      <td>general_reorder</td>\n      <td>[40,50)</td>\n      <td>0.404762</td>\n      <td>&lt;NA&gt;</td>\n      <td>None</td>\n    </tr>\n  </tbody>\n</table>\n</div>"
     },
     "execution_count": 83,
     "metadata": {},
     "output_type": "execute_result"
    }
   ],
   "source": [
    "df.head()"
   ],
   "metadata": {
    "collapsed": false,
    "pycharm": {
     "name": "#%%\n"
    }
   }
  },
  {
   "cell_type": "code",
   "execution_count": 85,
   "outputs": [],
   "source": [
    "df['orders_count'].fillna(0, inplace=True)\n",
    "df['lifecycle_segment'].fillna(\"no_segment\", inplace=True)"
   ],
   "metadata": {
    "collapsed": false,
    "pycharm": {
     "name": "#%%\n"
    }
   }
  },
  {
   "cell_type": "code",
   "execution_count": 104,
   "outputs": [],
   "source": [
    "def model_evaluation_metrices(y_true, y_pred_binary, ypred_score):\n",
    "    \"\"\"\n",
    "    This function gives model evaluation metrices viz. cm,accuracy,recall,specificity,auc,f1_score\n",
    "\n",
    "        Parameters:\n",
    "            y_true(array/list/series): true target labels\n",
    "            y_pred_binary(array/list/series): prediction target label in binary labels(0/1)\n",
    "            ypred_score(array/list/series): prediction target scores\n",
    "\n",
    "        Returns:\n",
    "            accuracy(float): accuracy of the model\n",
    "            recall(float): recall of the model\n",
    "            specificity(float): specificity of the model\n",
    "            f1_score(float): f1_score of the model\n",
    "            precision(float): precision of the model\n",
    "            roc_auc(float): roc_auc of the model\n",
    "            precision_recall_auc(float): precision_recall_auc of the model\n",
    "    \"\"\"\n",
    "    cm = confusion_matrix(y_true, y_pred_binary)\n",
    "    tn, fp, fn, tp = cm.ravel()\n",
    "    # auc = roc_auc_score(y_true,y_pred)\n",
    "    recall = tp / (tp + fn)\n",
    "    specificity = tn / (tn + fp)\n",
    "    precision = tp / (tp + fp)\n",
    "    accuracy = (tp + tn) / (tn + fp + fn + tp)\n",
    "    f1_score = (2 * tp) / (2 * tp + fp + fn)\n",
    "    # calculate precision-recall curve\n",
    "    precision_for_auc, recall_for_auc, thresholds_vals = precision_recall_curve(\n",
    "        y_true, y_pred_binary\n",
    "    )\n",
    "    # calculate precision-recall AUC\n",
    "    precision_recall_auc = auc(recall_for_auc, precision_for_auc)\n",
    "    roc_auc = roc_auc_score(y_true=y_true, y_score=ypred_score)\n",
    "\n",
    "    return (\n",
    "        round(accuracy, 2),\n",
    "        round(recall, 2),\n",
    "        round(specificity, 2),\n",
    "        round(f1_score, 2),\n",
    "        round(precision, 2),\n",
    "        round(roc_auc, 2),\n",
    "        round(precision_recall_auc, 2),\n",
    "    )"
   ],
   "metadata": {
    "collapsed": false,
    "pycharm": {
     "name": "#%%\n"
    }
   }
  },
  {
   "cell_type": "code",
   "execution_count": 109,
   "outputs": [],
   "source": [
    "def make_results(df, order_col):\n",
    "    df_store_final = pd.DataFrame(\n",
    "            columns=[\n",
    "                \"threshold\",\n",
    "                \"orders_count\",\n",
    "                \"accuracy\",\n",
    "                \"recall\",\n",
    "                \"specificity\",\n",
    "                \"f1_score\",\n",
    "                \"precision\",\n",
    "                \"roc_auc\",\n",
    "                \"precision_recall_auc\",\n",
    "            ]\n",
    "        )\n",
    "\n",
    "    for orders in df[order_col].unique():\n",
    "        df_orders = df[df[order_col]==orders]\n",
    "        for mythres in [0.3, 0.5, 0.7]:\n",
    "            binary_pred = df_orders[\"reorder_score_scaled\"].apply(\n",
    "                lambda x: 1 if x > mythres else 0\n",
    "            )\n",
    "            if (df_orders[\"reordered\"].nunique() < 2) | (\n",
    "                binary_pred.nunique() < 2 #understand condition better\n",
    "            ):\n",
    "                continue\n",
    "\n",
    "            (\n",
    "                accuracy,\n",
    "                recall,\n",
    "                specificity,\n",
    "                f1_score,\n",
    "                precision,\n",
    "                roc_auc,\n",
    "                precision_recall_auc,\n",
    "            ) = model_evaluation_metrices(\n",
    "                y_true=df_orders[\"reordered\"].to_list(),\n",
    "                y_pred_binary=binary_pred,\n",
    "                ypred_score=df_orders[\"reorder_score_scaled\"],\n",
    "        )\n",
    "\n",
    "            df_store = pd.DataFrame(\n",
    "                                index=[0],\n",
    "                                columns=[\n",
    "                                    \"threshold\",\n",
    "                                    \"orders_count\",\n",
    "                                    \"accuracy\",\n",
    "                                    \"recall\",\n",
    "                                    \"specificity\",\n",
    "                                    \"f1_score\",\n",
    "                                    \"precision\",\n",
    "                                    \"roc_auc\",\n",
    "                                    \"precision_recall_auc\",\n",
    "                                ],\n",
    "                            )\n",
    "            df_store[\"threshold\"] = mythres\n",
    "            df_store[\"orders_count\"] = orders\n",
    "            df_store[\"accuracy\"] = accuracy\n",
    "            df_store[\"recall\"] = recall\n",
    "            df_store[\"specificity\"] = specificity\n",
    "            df_store[\"f1_score\"] = f1_score\n",
    "            df_store[\"precision\"] = precision\n",
    "            df_store[\"roc_auc\"] = roc_auc\n",
    "            df_store[\"precision_recall_auc\"] = precision_recall_auc\n",
    "            df_store_final = pd.concat(\n",
    "                [df_store_final, df_store], axis=0, ignore_index=True\n",
    "            )\n",
    "    return df_store_final"
   ],
   "metadata": {
    "collapsed": false,
    "pycharm": {
     "name": "#%%\n"
    }
   }
  },
  {
   "cell_type": "code",
   "execution_count": 110,
   "outputs": [
    {
     "data": {
      "text/plain": "   threshold orders_count  accuracy  recall  specificity  f1_score  precision  \\\n0        0.3            0      0.55    0.44         0.55      0.01       0.01   \n1        0.5            0      0.76    0.11         0.76      0.01       0.00   \n2        0.7            0      0.89    0.00         0.90      0.00       0.00   \n\n   roc_auc  precision_recall_auc  \n0     0.49                  0.22  \n1     0.49                  0.06  \n2     0.49                  0.00  ",
      "text/html": "<div>\n<style scoped>\n    .dataframe tbody tr th:only-of-type {\n        vertical-align: middle;\n    }\n\n    .dataframe tbody tr th {\n        vertical-align: top;\n    }\n\n    .dataframe thead th {\n        text-align: right;\n    }\n</style>\n<table border=\"1\" class=\"dataframe\">\n  <thead>\n    <tr style=\"text-align: right;\">\n      <th></th>\n      <th>threshold</th>\n      <th>orders_count</th>\n      <th>accuracy</th>\n      <th>recall</th>\n      <th>specificity</th>\n      <th>f1_score</th>\n      <th>precision</th>\n      <th>roc_auc</th>\n      <th>precision_recall_auc</th>\n    </tr>\n  </thead>\n  <tbody>\n    <tr>\n      <th>0</th>\n      <td>0.3</td>\n      <td>0</td>\n      <td>0.55</td>\n      <td>0.44</td>\n      <td>0.55</td>\n      <td>0.01</td>\n      <td>0.01</td>\n      <td>0.49</td>\n      <td>0.22</td>\n    </tr>\n    <tr>\n      <th>1</th>\n      <td>0.5</td>\n      <td>0</td>\n      <td>0.76</td>\n      <td>0.11</td>\n      <td>0.76</td>\n      <td>0.01</td>\n      <td>0.00</td>\n      <td>0.49</td>\n      <td>0.06</td>\n    </tr>\n    <tr>\n      <th>2</th>\n      <td>0.7</td>\n      <td>0</td>\n      <td>0.89</td>\n      <td>0.00</td>\n      <td>0.90</td>\n      <td>0.00</td>\n      <td>0.00</td>\n      <td>0.49</td>\n      <td>0.00</td>\n    </tr>\n  </tbody>\n</table>\n</div>"
     },
     "execution_count": 110,
     "metadata": {},
     "output_type": "execute_result"
    }
   ],
   "source": [
    "make_results(df, order_col='orders_count')"
   ],
   "metadata": {
    "collapsed": false,
    "pycharm": {
     "name": "#%%\n"
    }
   }
  },
  {
   "cell_type": "markdown",
   "source": [
    "For people that ordered at least once in the past week the model performs perfectly, while for those that didn't order it does not."
   ],
   "metadata": {
    "collapsed": false,
    "pycharm": {
     "name": "#%% md\n"
    }
   }
  },
  {
   "cell_type": "code",
   "execution_count": 111,
   "outputs": [],
   "source": [
    "df['order_bins'] = np.where(df['orders_count']<1, \"less than 1\", \"more than 1\")"
   ],
   "metadata": {
    "collapsed": false,
    "pycharm": {
     "name": "#%%\n"
    }
   }
  },
  {
   "cell_type": "code",
   "execution_count": 112,
   "outputs": [
    {
     "data": {
      "text/plain": "   threshold orders_count  accuracy  recall  specificity  f1_score  precision  \\\n0        0.3  less than 1      0.55    0.44         0.55      0.01       0.01   \n1        0.5  less than 1      0.76    0.11         0.76      0.01       0.00   \n2        0.7  less than 1      0.89    0.00         0.90      0.00       0.00   \n\n   roc_auc  precision_recall_auc  \n0     0.49                  0.22  \n1     0.49                  0.06  \n2     0.49                  0.00  ",
      "text/html": "<div>\n<style scoped>\n    .dataframe tbody tr th:only-of-type {\n        vertical-align: middle;\n    }\n\n    .dataframe tbody tr th {\n        vertical-align: top;\n    }\n\n    .dataframe thead th {\n        text-align: right;\n    }\n</style>\n<table border=\"1\" class=\"dataframe\">\n  <thead>\n    <tr style=\"text-align: right;\">\n      <th></th>\n      <th>threshold</th>\n      <th>orders_count</th>\n      <th>accuracy</th>\n      <th>recall</th>\n      <th>specificity</th>\n      <th>f1_score</th>\n      <th>precision</th>\n      <th>roc_auc</th>\n      <th>precision_recall_auc</th>\n    </tr>\n  </thead>\n  <tbody>\n    <tr>\n      <th>0</th>\n      <td>0.3</td>\n      <td>less than 1</td>\n      <td>0.55</td>\n      <td>0.44</td>\n      <td>0.55</td>\n      <td>0.01</td>\n      <td>0.01</td>\n      <td>0.49</td>\n      <td>0.22</td>\n    </tr>\n    <tr>\n      <th>1</th>\n      <td>0.5</td>\n      <td>less than 1</td>\n      <td>0.76</td>\n      <td>0.11</td>\n      <td>0.76</td>\n      <td>0.01</td>\n      <td>0.00</td>\n      <td>0.49</td>\n      <td>0.06</td>\n    </tr>\n    <tr>\n      <th>2</th>\n      <td>0.7</td>\n      <td>less than 1</td>\n      <td>0.89</td>\n      <td>0.00</td>\n      <td>0.90</td>\n      <td>0.00</td>\n      <td>0.00</td>\n      <td>0.49</td>\n      <td>0.00</td>\n    </tr>\n  </tbody>\n</table>\n</div>"
     },
     "execution_count": 112,
     "metadata": {},
     "output_type": "execute_result"
    }
   ],
   "source": [
    "make_results(df, order_col='order_bins')"
   ],
   "metadata": {
    "collapsed": false,
    "pycharm": {
     "name": "#%%\n"
    }
   }
  },
  {
   "cell_type": "code",
   "execution_count": 113,
   "outputs": [
    {
     "data": {
      "text/plain": "   threshold orders_count  accuracy  recall  specificity  f1_score  precision  \\\n0        0.3   no_segment      0.55    0.67         0.55       0.0        0.0   \n1        0.5   no_segment      0.76    0.00         0.76       0.0        0.0   \n2        0.7   no_segment      0.90    0.00         0.90       0.0        0.0   \n\n   roc_auc  precision_recall_auc  \n0     0.49                  0.33  \n1     0.49                  0.00  \n2     0.49                  0.00  ",
      "text/html": "<div>\n<style scoped>\n    .dataframe tbody tr th:only-of-type {\n        vertical-align: middle;\n    }\n\n    .dataframe tbody tr th {\n        vertical-align: top;\n    }\n\n    .dataframe thead th {\n        text-align: right;\n    }\n</style>\n<table border=\"1\" class=\"dataframe\">\n  <thead>\n    <tr style=\"text-align: right;\">\n      <th></th>\n      <th>threshold</th>\n      <th>orders_count</th>\n      <th>accuracy</th>\n      <th>recall</th>\n      <th>specificity</th>\n      <th>f1_score</th>\n      <th>precision</th>\n      <th>roc_auc</th>\n      <th>precision_recall_auc</th>\n    </tr>\n  </thead>\n  <tbody>\n    <tr>\n      <th>0</th>\n      <td>0.3</td>\n      <td>no_segment</td>\n      <td>0.55</td>\n      <td>0.67</td>\n      <td>0.55</td>\n      <td>0.0</td>\n      <td>0.0</td>\n      <td>0.49</td>\n      <td>0.33</td>\n    </tr>\n    <tr>\n      <th>1</th>\n      <td>0.5</td>\n      <td>no_segment</td>\n      <td>0.76</td>\n      <td>0.00</td>\n      <td>0.76</td>\n      <td>0.0</td>\n      <td>0.0</td>\n      <td>0.49</td>\n      <td>0.00</td>\n    </tr>\n    <tr>\n      <th>2</th>\n      <td>0.7</td>\n      <td>no_segment</td>\n      <td>0.90</td>\n      <td>0.00</td>\n      <td>0.90</td>\n      <td>0.0</td>\n      <td>0.0</td>\n      <td>0.49</td>\n      <td>0.00</td>\n    </tr>\n  </tbody>\n</table>\n</div>"
     },
     "execution_count": 113,
     "metadata": {},
     "output_type": "execute_result"
    }
   ],
   "source": [
    "make_results(df, order_col='lifecycle_segment')"
   ],
   "metadata": {
    "collapsed": false,
    "pycharm": {
     "name": "#%%\n"
    }
   }
  },
  {
   "cell_type": "code",
   "execution_count": 113,
   "outputs": [],
   "source": [],
   "metadata": {
    "collapsed": false,
    "pycharm": {
     "name": "#%%\n"
    }
   }
  },
  {
   "cell_type": "code",
   "execution_count": 95,
   "outputs": [],
   "source": [],
   "metadata": {
    "collapsed": false,
    "pycharm": {
     "name": "#%%\n"
    }
   }
  },
  {
   "cell_type": "code",
   "execution_count": null,
   "outputs": [],
   "source": [],
   "metadata": {
    "collapsed": false,
    "pycharm": {
     "name": "#%%\n"
    }
   }
  }
 ],
 "metadata": {
  "kernelspec": {
   "display_name": "Python 3",
   "language": "python",
   "name": "python3"
  },
  "language_info": {
   "codemirror_mode": {
    "name": "ipython",
    "version": 2
   },
   "file_extension": ".py",
   "mimetype": "text/x-python",
   "name": "python",
   "nbconvert_exporter": "python",
   "pygments_lexer": "ipython2",
   "version": "2.7.6"
  }
 },
 "nbformat": 4,
 "nbformat_minor": 0
}
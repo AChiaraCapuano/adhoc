{
 "cells": [
  {
   "cell_type": "code",
   "execution_count": null,
   "metadata": {
    "collapsed": true,
    "pycharm": {
     "name": "#%%\n"
    }
   },
   "outputs": [],
   "source": [
    "import pandas_gbq\n",
    "import pandas as pd\n",
    "import numpy as np"
   ]
  },
  {
   "cell_type": "code",
   "execution_count": null,
   "outputs": [],
   "source": [
    "from sklearn.metrics import auc, confusion_matrix, precision_recall_curve, roc_auc_score"
   ],
   "metadata": {
    "collapsed": false,
    "pycharm": {
     "name": "#%%\n"
    }
   }
  },
  {
   "cell_type": "code",
   "execution_count": null,
   "outputs": [],
   "source": [
    "q='''\n",
    "WITH\n",
    "  cust_orders AS (\n",
    "  SELECT\n",
    "    analytical_customer_id,\n",
    "    lifecycle_segment,\n",
    "    global_entity_id,\n",
    "    reordered\n",
    "  FROM\n",
    "    `fulfillment-dwh-production.cl_mkt._reorder_lifecycle_segmentation_history`\n",
    "  LEFT JOIN (\n",
    "    SELECT\n",
    "      DISTINCT global_entity_id,\n",
    "      analytical_customer_id,\n",
    "      1 AS reordered,\n",
    "    FROM\n",
    "      `fulfillment-dwh-production.curated_data_shared_coredata_business.orders`\n",
    "    WHERE\n",
    "      partition_date_local = \"2023-09-01\"\n",
    "      AND global_entity_id=\"FO_NO\"\n",
    "      AND is_successful\n",
    "      AND analytical_customer_id IS NOT NULL )\n",
    "  USING\n",
    "    (analytical_customer_id,\n",
    "      global_entity_id)\n",
    "  WHERE computation_date = \"2023-09-01\" and global_entity_id=\"FO_NO\" ),\n",
    "  pred_scores AS (\n",
    "  SELECT\n",
    "    \"general_reorder\" AS model_type,\n",
    "    global_entity_id,\n",
    "    analytical_customer_id,\n",
    "    1 - concated_survival_scores[ORDINAL(30)] AS reorder_score,\n",
    "    scoring_date\n",
    "  FROM\n",
    "    `mkt-reorder-prod.mkt_reorder_prod.predictions_rsf_mature_targeted_ALL`\n",
    "  WHERE\n",
    "    scoring_date = \"2023-09-01\"\n",
    "    AND global_entity_id=\"FO_NO\" ),\n",
    "  merged_table AS (\n",
    "  SELECT\n",
    "    p.global_entity_id,\n",
    "    p.analytical_customer_id,\n",
    "    COALESCE(c.reordered, 0) AS reordered,\n",
    "    p.reorder_score*100 AS reorder_score,\n",
    "    p.model_type,\n",
    "    c.lifecycle_segment\n",
    "  FROM\n",
    "    pred_scores AS p\n",
    "  LEFT JOIN (\n",
    "    SELECT\n",
    "      *\n",
    "    FROM\n",
    "      cust_orders ) AS c\n",
    "  ON\n",
    "    p.global_entity_id = c.global_entity_id\n",
    "    AND p.analytical_customer_id = c.analytical_customer_id ),\n",
    "  binned_table AS (\n",
    "  SELECT\n",
    "    *,\n",
    "    CASE\n",
    "      WHEN reorder_score < 10 THEN \"[0,10)\"\n",
    "      WHEN reorder_score >= 10\n",
    "    AND reorder_score < 20 THEN \"[10,20)\"\n",
    "      WHEN reorder_score >= 20 AND reorder_score < 30 THEN \"[20,30)\"\n",
    "      WHEN reorder_score >= 30\n",
    "    AND reorder_score < 40 THEN \"[30,40)\"\n",
    "      WHEN reorder_score >= 40 AND reorder_score < 50 THEN \"[40,50)\"\n",
    "      WHEN reorder_score >= 50\n",
    "    AND reorder_score < 60 THEN \"[50,60)\"\n",
    "      WHEN reorder_score >= 60 AND reorder_score < 70 THEN \"[60,70)\"\n",
    "      WHEN reorder_score >= 70\n",
    "    AND reorder_score < 80 THEN \"[70,80)\"\n",
    "      WHEN reorder_score >= 80 AND reorder_score < 90 THEN \"[80,90)\"\n",
    "      WHEN reorder_score >= 90 THEN \"[90,100)\"\n",
    "    ELSE\n",
    "    \"invalid_value\"\n",
    "  END\n",
    "    AS reorder_bin,\n",
    "  FROM\n",
    "    merged_table ),\n",
    "  min_max_reorder AS (\n",
    "  SELECT\n",
    "    global_entity_id,\n",
    "    model_type,\n",
    "    -- lifecycle_segment,\n",
    "    MAX(reorder_score) AS max_reorder_score,\n",
    "    MIN(reorder_score) AS min_reorder_score\n",
    "  FROM\n",
    "    binned_table\n",
    "  GROUP BY\n",
    "    model_type,\n",
    "    global_entity_id--, lifecycle_segment\n",
    "    )\n",
    "SELECT\n",
    "  r.global_entity_id,\n",
    "  r.analytical_customer_id,\n",
    "  r.reordered,\n",
    "  r.reorder_score,\n",
    "  r.model_type,\n",
    "  r.reorder_bin,\n",
    "  (r.reorder_score - m.min_reorder_score)/(m.max_reorder_score - m.min_reorder_score) AS reorder_score_scaled,\n",
    "  r.lifecycle_segment\n",
    "FROM\n",
    "  binned_table AS r\n",
    "JOIN\n",
    "  min_max_reorder AS m\n",
    "ON\n",
    "  m.model_type = r.model_type\n",
    "  AND m.global_entity_id = r.global_entity_id\n",
    "  --AND m.lifecycle_segment = r.lifecycle_segment\n",
    "ORDER BY\n",
    "  r.global_entity_id DESC,\n",
    "  r.analytical_customer_id DESC\n",
    "'''"
   ],
   "metadata": {
    "collapsed": false,
    "pycharm": {
     "name": "#%%\n"
    }
   }
  },
  {
   "cell_type": "code",
   "execution_count": null,
   "outputs": [],
   "source": [
    "df = pandas_gbq.read_gbq(q)"
   ],
   "metadata": {
    "collapsed": false,
    "pycharm": {
     "name": "#%%\n"
    }
   }
  },
  {
   "cell_type": "code",
   "execution_count": null,
   "outputs": [],
   "source": [
    "df.tail()"
   ],
   "metadata": {
    "collapsed": false,
    "pycharm": {
     "name": "#%%\n"
    }
   }
  },
  {
   "cell_type": "code",
   "execution_count": null,
   "outputs": [],
   "source": [
    "#df['orders_count'].fillna(0, inplace=True)\n",
    "df['lifecycle_segment'].fillna(\"no_segment\", inplace=True)"
   ],
   "metadata": {
    "collapsed": false,
    "pycharm": {
     "name": "#%%\n"
    }
   }
  },
  {
   "cell_type": "code",
   "execution_count": null,
   "outputs": [],
   "source": [
    "def model_evaluation_metrices(y_true, y_pred_binary, ypred_score):\n",
    "    \"\"\"\n",
    "    This function gives model evaluation metrices viz. cm,accuracy,recall,specificity,auc,f1_score\n",
    "\n",
    "        Parameters:\n",
    "            y_true(array/list/series): true target labels\n",
    "            y_pred_binary(array/list/series): prediction target label in binary labels(0/1)\n",
    "            ypred_score(array/list/series): prediction target scores\n",
    "\n",
    "        Returns:\n",
    "            accuracy(float): accuracy of the model\n",
    "            recall(float): recall of the model\n",
    "            specificity(float): specificity of the model\n",
    "            f1_score(float): f1_score of the model\n",
    "            precision(float): precision of the model\n",
    "            roc_auc(float): roc_auc of the model\n",
    "            precision_recall_auc(float): precision_recall_auc of the model\n",
    "    \"\"\"\n",
    "    cm = confusion_matrix(y_true, y_pred_binary)\n",
    "    tn, fp, fn, tp = cm.ravel()\n",
    "    # auc = roc_auc_score(y_true,y_pred)\n",
    "    recall = tp / (tp + fn)\n",
    "    specificity = tn / (tn + fp)\n",
    "    precision = tp / (tp + fp)\n",
    "    accuracy = (tp + tn) / (tn + fp + fn + tp)\n",
    "    f1_score = (2 * tp) / (2 * tp + fp + fn)\n",
    "    # calculate precision-recall curve\n",
    "    precision_for_auc, recall_for_auc, thresholds_vals = precision_recall_curve(\n",
    "        y_true, y_pred_binary\n",
    "    )\n",
    "    # calculate precision-recall AUC\n",
    "    precision_recall_auc = auc(recall_for_auc, precision_for_auc)\n",
    "    roc_auc = roc_auc_score(y_true=y_true, y_score=ypred_score)\n",
    "\n",
    "    return (\n",
    "        round(accuracy, 2),\n",
    "        round(recall, 2),\n",
    "        round(specificity, 2),\n",
    "        round(f1_score, 2),\n",
    "        round(precision, 2),\n",
    "        round(roc_auc, 2),\n",
    "        round(precision_recall_auc, 2),\n",
    "    )"
   ],
   "metadata": {
    "collapsed": false,
    "pycharm": {
     "name": "#%%\n"
    }
   }
  },
  {
   "cell_type": "code",
   "execution_count": null,
   "outputs": [],
   "source": [
    "def make_results(df, order_col):\n",
    "    df_store_final = pd.DataFrame(\n",
    "            columns=[\n",
    "                \"threshold\",\n",
    "                \"lifecycle_segment\",\n",
    "                \"accuracy\",\n",
    "                \"recall\",\n",
    "                \"specificity\",\n",
    "                \"f1_score\",\n",
    "                \"precision\",\n",
    "                \"roc_auc\",\n",
    "                \"precision_recall_auc\",\n",
    "            ]\n",
    "        )\n",
    "\n",
    "    for orders in df[order_col].unique():\n",
    "        df_orders = df[df[order_col]==orders]\n",
    "        for mythres in [0.3, 0.5, 0.7]:\n",
    "            binary_pred = df_orders[\"reorder_score_scaled\"].apply(\n",
    "                lambda x: 1 if x > mythres else 0\n",
    "            )\n",
    "            if (df_orders[\"reordered\"].nunique() < 2) | (\n",
    "                binary_pred.nunique() < 2 #understand condition better\n",
    "            ):\n",
    "                continue\n",
    "\n",
    "            (\n",
    "                accuracy,\n",
    "                recall,\n",
    "                specificity,\n",
    "                f1_score,\n",
    "                precision,\n",
    "                roc_auc,\n",
    "                precision_recall_auc,\n",
    "            ) = model_evaluation_metrices(\n",
    "                y_true=df_orders[\"reordered\"].to_list(),\n",
    "                y_pred_binary=binary_pred,\n",
    "                ypred_score=df_orders[\"reorder_score_scaled\"],\n",
    "        )\n",
    "\n",
    "            df_store = pd.DataFrame(\n",
    "                                index=[0],\n",
    "                                columns=[\n",
    "                                    \"threshold\",\n",
    "                                    \"lifecycle_segment\",\n",
    "                                    \"accuracy\",\n",
    "                                    \"recall\",\n",
    "                                    \"specificity\",\n",
    "                                    \"f1_score\",\n",
    "                                    \"precision\",\n",
    "                                    \"roc_auc\",\n",
    "                                    \"precision_recall_auc\",\n",
    "                                ],\n",
    "                            )\n",
    "            df_store[\"threshold\"] = mythres\n",
    "            df_store[\"lifecycle_segment\"] = orders\n",
    "            df_store[\"accuracy\"] = accuracy\n",
    "            df_store[\"recall\"] = recall\n",
    "            df_store[\"specificity\"] = specificity\n",
    "            df_store[\"f1_score\"] = f1_score\n",
    "            df_store[\"precision\"] = precision\n",
    "            df_store[\"roc_auc\"] = roc_auc\n",
    "            df_store[\"precision_recall_auc\"] = precision_recall_auc\n",
    "            df_store_final = pd.concat(\n",
    "                [df_store_final, df_store], axis=0, ignore_index=True\n",
    "            )\n",
    "    return df_store_final"
   ],
   "metadata": {
    "collapsed": false,
    "pycharm": {
     "name": "#%%\n"
    }
   }
  },
  {
   "cell_type": "code",
   "execution_count": null,
   "outputs": [],
   "source": [
    "results = make_results(df, order_col='lifecycle_segment')\n",
    "print(results)"
   ],
   "metadata": {
    "collapsed": false,
    "pycharm": {
     "name": "#%%\n"
    }
   }
  },
  {
   "cell_type": "code",
   "execution_count": null,
   "outputs": [],
   "source": [
    "df['lifecycle_segment'].unique()"
   ],
   "metadata": {
    "collapsed": false,
    "pycharm": {
     "name": "#%%\n"
    }
   }
  },
  {
   "cell_type": "markdown",
   "source": [
    "Try left joining predictions on orders:"
   ],
   "metadata": {
    "collapsed": false
   }
  },
  {
   "cell_type": "code",
   "execution_count": null,
   "outputs": [],
   "source": [
    "q1 = '''\n",
    "WITH\n",
    "  cust_orders AS (\n",
    "  SELECT\n",
    "    analytical_customer_id,\n",
    "    lifecycle_segment,\n",
    "    global_entity_id,\n",
    "    reordered\n",
    "  FROM\n",
    "    `fulfillment-dwh-production.cl_mkt._reorder_lifecycle_segmentation_history`\n",
    "  LEFT JOIN (\n",
    "    SELECT\n",
    "      DISTINCT global_entity_id,\n",
    "      analytical_customer_id,\n",
    "      1 AS reordered,\n",
    "    FROM\n",
    "      `fulfillment-dwh-production.curated_data_shared_coredata_business.orders`\n",
    "    WHERE\n",
    "      partition_date_local = \"2023-09-01\"\n",
    "      AND global_entity_id=\"FO_NO\"\n",
    "      AND is_successful\n",
    "      AND analytical_customer_id IS NOT NULL )\n",
    "  USING\n",
    "    (analytical_customer_id,\n",
    "      global_entity_id)\n",
    "  WHERE computation_date = \"2023-09-01\" and global_entity_id=\"FO_NO\" ),\n",
    "  pred_scores AS (\n",
    "  SELECT\n",
    "    \"general_reorder\" AS model_type,\n",
    "    global_entity_id,\n",
    "    analytical_customer_id,\n",
    "    1 - concated_survival_scores[ORDINAL(30)] AS reorder_score,\n",
    "    scoring_date\n",
    "  FROM\n",
    "    `mkt-reorder-prod.mkt_reorder_prod.predictions_rsf_mature_targeted_ALL`\n",
    "  WHERE\n",
    "    scoring_date = \"2023-09-01\"\n",
    "    AND global_entity_id=\"FO_NO\" ),\n",
    "  merged_table AS (\n",
    "\n",
    "\n",
    "  SELECT\n",
    "    p.global_entity_id,\n",
    "    p.analytical_customer_id,\n",
    "    COALESCE(c.reordered, 0) AS reordered,\n",
    "    p.reorder_score*100 AS reorder_score,\n",
    "    p.model_type,\n",
    "    c.lifecycle_segment\n",
    "  FROM\n",
    "     cust_orders AS c\n",
    "  LEFT JOIN (\n",
    "    SELECT\n",
    "      global_entity_id,\n",
    "    analytical_customer_id,\n",
    "    reorder_score*100 AS reorder_score,\n",
    "    model_type,\n",
    "    FROM\n",
    "      pred_scores ) AS p\n",
    "  ON\n",
    "    p.global_entity_id = c.global_entity_id\n",
    "    AND p.analytical_customer_id = c.analytical_customer_id\n",
    "\n",
    "\n",
    "\n",
    "    ),\n",
    "  binned_table AS (\n",
    "  SELECT\n",
    "    *,\n",
    "    CASE\n",
    "      WHEN reorder_score < 10 THEN \"[0,10)\"\n",
    "      WHEN reorder_score >= 10\n",
    "    AND reorder_score < 20 THEN \"[10,20)\"\n",
    "      WHEN reorder_score >= 20 AND reorder_score < 30 THEN \"[20,30)\"\n",
    "      WHEN reorder_score >= 30\n",
    "    AND reorder_score < 40 THEN \"[30,40)\"\n",
    "      WHEN reorder_score >= 40 AND reorder_score < 50 THEN \"[40,50)\"\n",
    "      WHEN reorder_score >= 50\n",
    "    AND reorder_score < 60 THEN \"[50,60)\"\n",
    "      WHEN reorder_score >= 60 AND reorder_score < 70 THEN \"[60,70)\"\n",
    "      WHEN reorder_score >= 70\n",
    "    AND reorder_score < 80 THEN \"[70,80)\"\n",
    "      WHEN reorder_score >= 80 AND reorder_score < 90 THEN \"[80,90)\"\n",
    "      WHEN reorder_score >= 90 THEN \"[90,100)\"\n",
    "    ELSE\n",
    "    \"invalid_value\"\n",
    "  END\n",
    "    AS reorder_bin,\n",
    "  FROM\n",
    "    merged_table ),\n",
    "  min_max_reorder AS (\n",
    "  SELECT\n",
    "    global_entity_id,\n",
    "    model_type,\n",
    "    -- lifecycle_segment,\n",
    "    MAX(reorder_score) AS max_reorder_score,\n",
    "    MIN(reorder_score) AS min_reorder_score\n",
    "  FROM\n",
    "    binned_table\n",
    "  GROUP BY\n",
    "    model_type,\n",
    "    global_entity_id--, lifecycle_segment\n",
    "    )\n",
    "SELECT\n",
    "  r.global_entity_id,\n",
    "  r.analytical_customer_id,\n",
    "  r.reordered,\n",
    "  r.reorder_score,\n",
    "  r.model_type,\n",
    "  r.reorder_bin,\n",
    "  (r.reorder_score - m.min_reorder_score)/(m.max_reorder_score - m.min_reorder_score) AS reorder_score_scaled,\n",
    "  r.lifecycle_segment\n",
    "FROM\n",
    "  binned_table AS r\n",
    "JOIN\n",
    "  min_max_reorder AS m\n",
    "ON\n",
    "  m.model_type = r.model_type\n",
    "  AND m.global_entity_id = r.global_entity_id\n",
    "  --AND m.lifecycle_segment = r.lifecycle_segment\n",
    "ORDER BY\n",
    "  r.global_entity_id DESC,\n",
    "  r.analytical_customer_id DESC\n",
    "'''"
   ],
   "metadata": {
    "collapsed": false,
    "pycharm": {
     "name": "#%%\n"
    }
   }
  },
  {
   "cell_type": "code",
   "execution_count": null,
   "outputs": [],
   "source": [
    "df1 = pandas_gbq.read_gbq(q1)"
   ],
   "metadata": {
    "collapsed": false,
    "pycharm": {
     "name": "#%%\n"
    }
   }
  },
  {
   "cell_type": "code",
   "execution_count": null,
   "outputs": [],
   "source": [
    "df1['lifecycle_segment'].fillna(\"no_segment\", inplace=True)"
   ],
   "metadata": {
    "collapsed": false,
    "pycharm": {
     "name": "#%%\n"
    }
   }
  },
  {
   "cell_type": "code",
   "execution_count": null,
   "outputs": [],
   "source": [
    "results1 = make_results(df1, order_col='lifecycle_segment')\n",
    "print(results1)"
   ],
   "metadata": {
    "collapsed": false,
    "pycharm": {
     "name": "#%%\n"
    }
   }
  },
  {
   "cell_type": "markdown",
   "source": [
    "The df are the same per segment but df contains customers w/o segment so I keep that."
   ],
   "metadata": {
    "collapsed": false
   }
  },
  {
   "cell_type": "code",
   "execution_count": 207,
   "outputs": [
    {
     "data": {
      "text/plain": "(array(['infrequent_mature_customer', 'frequent_mature_customer',\n        'dormant_mature_customer', 'stale_early_customer',\n        'recent_early_customer', 'dormant_early_customer'], dtype=object),\n array(['stale_early_customer', 'frequent_mature_customer',\n        'infrequent_mature_customer', 'dormant_mature_customer',\n        'dormant_early_customer', 'recent_early_customer', 'no_segment'],\n       dtype=object))"
     },
     "execution_count": 207,
     "metadata": {},
     "output_type": "execute_result"
    }
   ],
   "source": [
    "df1['lifecycle_segment'].unique(), df['lifecycle_segment'].unique()"
   ],
   "metadata": {
    "collapsed": false,
    "pycharm": {
     "name": "#%%\n"
    }
   }
  },
  {
   "cell_type": "markdown",
   "source": [
    "Segments from table:\n",
    "frequent_mature_customer,\n",
    "dormant_early_customer,\n",
    "dormant_mature_customer,\n",
    "recent_early_customer,\n",
    "infrequent_mature_customer,\n",
    "stale_early_customer"
   ],
   "metadata": {
    "collapsed": false
   }
  },
  {
   "cell_type": "code",
   "execution_count": null,
   "outputs": [],
   "source": [],
   "metadata": {
    "collapsed": false,
    "pycharm": {
     "name": "#%%\n"
    }
   }
  }
 ],
 "metadata": {
  "kernelspec": {
   "display_name": "Python 3",
   "language": "python",
   "name": "python3"
  },
  "language_info": {
   "codemirror_mode": {
    "name": "ipython",
    "version": 2
   },
   "file_extension": ".py",
   "mimetype": "text/x-python",
   "name": "python",
   "nbconvert_exporter": "python",
   "pygments_lexer": "ipython2",
   "version": "2.7.6"
  }
 },
 "nbformat": 4,
 "nbformat_minor": 0
}